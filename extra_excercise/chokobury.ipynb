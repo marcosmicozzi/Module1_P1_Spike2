{
 "cells": [
  {
   "cell_type": "markdown",
   "metadata": {},
   "source": []
  },
  {
   "cell_type": "markdown",
   "metadata": {},
   "source": [
    "# Q1. \n",
    "Chocolate firm chocoBury wants to do smart advertisement for their newly\n",
    "launched chocolate brand across Germany in 2019 and target right aged customers.\n",
    "They have collected the years of birth of all of the customers and want to calculate\n",
    "their respective age.\n",
    "\n",
    "Given below is a list of 10 customers with year of birth, however, the list can be as\n",
    "large as several thousands of customers.\n",
    "\n",
    "[1999, 1995, 2005, 2010, 2007, 2006, 1994, 1996, 1979, 2008]\n",
    "\n",
    "The task is to write a function that returns the age of customers.\n",
    "\n",
    "Sample input: [1999, 1995, 2005, 2010, 2007, 2006, 1994, 1996, 1979, 2008]\n",
    "Sample output: [20, 24, 14, 9, 12, 13, 25, 23, 40, 11]"
   ]
  },
  {
   "cell_type": "code",
   "execution_count": 41,
   "metadata": {},
   "outputs": [
    {
     "data": {
      "text/plain": [
       "[20, 24, 14, 9, 12, 13, 25, 23, 40, 11]"
      ]
     },
     "execution_count": 41,
     "metadata": {},
     "output_type": "execute_result"
    }
   ],
   "source": [
    "year_birth = [1999, 1995, 2005, 2010, 2007, 2006, 1994, 1996, 1979, 2008]\n",
    "\n",
    "current_year = 2019\n",
    "\n",
    "age_customer = []\n",
    "# This function iterates through my list with years of birth and figures out the age of the customers. \n",
    "def customer_age(year):\n",
    "    for year in year_birth:\n",
    "        age = current_year - year\n",
    "        age_customer.append(age)\n",
    "    return age_customer\n",
    "\n",
    "customer_age(year_birth)"
   ]
  },
  {
   "cell_type": "markdown",
   "metadata": {},
   "source": [
    "# Q2. \n",
    "It costs much for the chocolate firm chocoBury to do marketing for wide range of\n",
    "customers. To save money, they want to narrow down the range of ages obtained in\n",
    "previous list.\n",
    "\n",
    "Also, the oldest person and youngest person do not truly represent the targeted\n",
    "group for marketing campaign and they can be considered as outliers.\n",
    "\n",
    "The task is to write a function that removes the outliers (the oldest and youngest\n",
    "person’s age) and return the new list with age of 8 persons (in this case which\n",
    "contains data for 10 customers initially).\n",
    "\n",
    "Sample input: [20, 24, 14, 9, 12, 13, 25, 23, 40, 11]\n",
    "Sample output: [20, 24, 14, 12, 13, 25, 23, 11]"
   ]
  },
  {
   "cell_type": "code",
   "execution_count": 42,
   "metadata": {},
   "outputs": [
    {
     "name": "stdout",
     "output_type": "stream",
     "text": [
      "[9, 11, 12, 13, 14, 20, 23, 24, 25, 40]\n",
      "--------\n",
      "[9, 11, 12, 13, 14, 20, 23, 24, 25]\n",
      "--------\n",
      "[11, 12, 13, 14, 20, 23, 24, 25]\n",
      "--------\n"
     ]
    }
   ],
   "source": [
    "# Here I am sorting the list.\n",
    "age_customer.sort()\n",
    "print(age_customer)\n",
    "print('--------')\n",
    "# Here I am removing the last element of the list, which is the oldest outlier. \n",
    "age_customer.pop()\n",
    "print(age_customer)\n",
    "print('--------')\n",
    "# Here I am removing the first element of the list which is the youngest outlier. \n",
    "age_customer.remove(age_customer[0])\n",
    "print(age_customer)\n",
    "print('--------')"
   ]
  },
  {
   "cell_type": "markdown",
   "metadata": {},
   "source": [
    "# Q3.  \n",
    "The chocolate firm chocoBury did the survey of customers in Berlin and Munich\n",
    "separately and came up with the following lists of the age of customers.\n",
    "\n",
    "berlin = [15, 13, 16, 18, 19, 10, 12 ]\n",
    "munich = [7, 13, 15, 20, 19, 18, 10, 16]\n",
    "\n",
    "However, marketing manager Henry thinks that a single list would be better to look\n",
    "at rather than having different lists from these 2 cities. So, Henry wants to have a\n",
    "common list from these 2 cities.\n",
    "\n",
    "The task is to write a function that takes these 2 lists as input and returns the\n",
    "common age values.\n",
    "\n",
    "29/09/21, 13:08 Python Workshops – Data Science with Python\n",
    "\n",
    "https://dsft.code-data-ai.com/python-workshops/ 4/24\n",
    "Sample input: [15, 13, 16, 18, 19, 10, 12 ], [7, 13, 15, 20, 19, 18, 10, 16]\n",
    "\n",
    "Sample output: [15,13,16,18,19,10]"
   ]
  },
  {
   "cell_type": "code",
   "execution_count": 43,
   "metadata": {},
   "outputs": [
    {
     "data": {
      "text/plain": [
       "[15, 13, 16, 18, 19, 10]"
      ]
     },
     "execution_count": 43,
     "metadata": {},
     "output_type": "execute_result"
    }
   ],
   "source": [
    "berlin_age = [15, 13, 16, 18, 19, 10, 12 ]\n",
    "munich_age = [7, 13, 15, 20, 19, 18, 10, 16]\n",
    "combined_age_list = []\n",
    "\n",
    "# This function iterates through 2 lists and creates a new list with values that appear on both lists. \n",
    "def final_age_list(a, b):\n",
    "    for age in a:\n",
    "        if age in b:\n",
    "            combined_age_list.append(age)\n",
    "    return combined_age_list\n",
    "\n",
    "final_age_list(berlin_age, munich_age)"
   ]
  },
  {
   "cell_type": "markdown",
   "metadata": {},
   "source": [
    "# Q4. \n",
    "After careful investigation of the common age list, Henry, the marketing\n",
    "manager of the chocolate firm chocoBury, found out that many of the customer\n",
    "ages are simply duplicate values. So, he asked Mark, the only software developer in\n",
    "the Chocolate company chocoBury, to give him the list with no redundant age\n",
    "values.\n",
    "\n",
    "The task is to write a function that takes the list with duplicate values as input and\n",
    "return the list with unique age values.\n",
    "\n",
    "Sample input: [15,13,16,18,19,15,10]\n",
    "Sample output: [15,13,16,18,19,10]"
   ]
  },
  {
   "cell_type": "code",
   "execution_count": 44,
   "metadata": {},
   "outputs": [],
   "source": [
    "# I do not understand, I don't have duplicates. "
   ]
  },
  {
   "cell_type": "markdown",
   "metadata": {},
   "source": [
    "# Q5. \n",
    "Henry generally asks software developer Mark if a certain age value is present in\n",
    "the list of customer ages or not. However, Henry, a busy manager, often forgets what\n",
    "Mark replies and asks the same question sometimes multiple times.\n",
    "\n",
    "29/09/21, 13:08 Python Workshops – Data Science with Python\n",
    "\n",
    "https://dsft.code-data-ai.com/python-workshops/ 5/24\n",
    "Mark, a smart guy, thinks it is too boring for him and hence, he thinks why not he\n",
    "creates a function which will listen to Henry’s query and read through the age list &\n",
    "finally reply back to Henry if that age is present or not in the list.\n",
    "\n",
    "The task is to write a function that takes an input list and value of age to find as input\n",
    "and return true or false if the age value is present or not.\n",
    "\n",
    "Sample input: [15,13,16,18,19,15,10], 15\n",
    "Sample output: True\n",
    "\n",
    "Sample input: [15,13,16,18,19,15,10], 28\n",
    "Sample output: False"
   ]
  },
  {
   "cell_type": "code",
   "execution_count": 58,
   "metadata": {},
   "outputs": [
    {
     "data": {
      "text/plain": [
       "'As told you before.. many times.. People that are 15 years old are present in the list'"
      ]
     },
     "execution_count": 58,
     "metadata": {},
     "output_type": "execute_result"
    }
   ],
   "source": [
    "\n",
    "combined_age_list = [15, 13, 16, 18, 19, 10]\n",
    "\n",
    "def check_age(num):\n",
    "    if num in combined_age_list:\n",
    "        return f'As told you before.. many times.. People that are {num} years old are present in the list'\n",
    "    return f'Henry... people that are {num} years old are not in the list...'\n",
    "\n",
    "check_age(15)"
   ]
  },
  {
   "cell_type": "markdown",
   "metadata": {},
   "source": []
  }
 ],
 "metadata": {
  "kernelspec": {
   "display_name": "MarcosPython10",
   "language": "python",
   "name": "python3"
  },
  "language_info": {
   "codemirror_mode": {
    "name": "ipython",
    "version": 3
   },
   "file_extension": ".py",
   "mimetype": "text/x-python",
   "name": "python",
   "nbconvert_exporter": "python",
   "pygments_lexer": "ipython3",
   "version": "3.10.18"
  }
 },
 "nbformat": 4,
 "nbformat_minor": 2
}
