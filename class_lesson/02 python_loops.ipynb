{
 "cells": [
  {
   "cell_type": "markdown",
   "metadata": {},
   "source": [
    "## For Loops"
   ]
  },
  {
   "cell_type": "code",
   "execution_count": 136,
   "metadata": {},
   "outputs": [
    {
     "name": "stdout",
     "output_type": "stream",
     "text": [
      "23\n",
      "55\n",
      "7\n"
     ]
    }
   ],
   "source": [
    "# manual way: create list and print each item by indexing\n",
    "\n",
    "my_friends_ages = [23,55,7,8,19,32]\n",
    "\n",
    "print(my_friends_ages[0])\n",
    "print(my_friends_ages[1])\n",
    "print(my_friends_ages[2])"
   ]
  },
  {
   "cell_type": "code",
   "execution_count": 137,
   "metadata": {},
   "outputs": [
    {
     "name": "stdout",
     "output_type": "stream",
     "text": [
      "23\n",
      "55\n",
      "7\n",
      "8\n",
      "19\n",
      "32\n"
     ]
    }
   ],
   "source": [
    "# do the same with basic for loop: faster and automated\n",
    "\n",
    "my_friends_ages = [23,55,7,8,19,32]\n",
    "\n",
    "for sandwich in my_friends_ages:\n",
    "    print(sandwich)"
   ]
  },
  {
   "cell_type": "code",
   "execution_count": 138,
   "metadata": {},
   "outputs": [],
   "source": [
    "# avoid using variables like \"list\", they already exist as a function and will be overwritten. \n",
    "# You can see this from the blue color that a word is already in use. \n",
    "# If you have done that accidentally just restart the Kernel"
   ]
  },
  {
   "cell_type": "markdown",
   "metadata": {},
   "source": [
    "These are some common and useful methods often used inside loops: **range()** / **len()** / **enumerate()**"
   ]
  },
  {
   "cell_type": "code",
   "execution_count": 139,
   "metadata": {},
   "outputs": [
    {
     "data": {
      "text/plain": [
       "6"
      ]
     },
     "execution_count": 139,
     "metadata": {},
     "output_type": "execute_result"
    }
   ],
   "source": [
    "# use len()\n",
    "\n",
    "len(my_friends_ages)"
   ]
  },
  {
   "cell_type": "code",
   "execution_count": 140,
   "metadata": {},
   "outputs": [
    {
     "data": {
      "text/plain": [
       "range(0, 33)"
      ]
     },
     "execution_count": 140,
     "metadata": {},
     "output_type": "execute_result"
    }
   ],
   "source": [
    "# use range()\n",
    "\n",
    "range(33)"
   ]
  },
  {
   "cell_type": "code",
   "execution_count": 141,
   "metadata": {},
   "outputs": [
    {
     "data": {
      "text/plain": [
       "range(0, 6)"
      ]
     },
     "execution_count": 141,
     "metadata": {},
     "output_type": "execute_result"
    }
   ],
   "source": [
    "# use range(len(...))\n",
    "\n",
    "range(len(my_friends_ages))"
   ]
  },
  {
   "cell_type": "code",
   "execution_count": 142,
   "metadata": {},
   "outputs": [
    {
     "data": {
      "text/plain": [
       "range(0, 6)"
      ]
     },
     "execution_count": 142,
     "metadata": {},
     "output_type": "execute_result"
    }
   ],
   "source": [
    "range(6)"
   ]
  },
  {
   "cell_type": "code",
   "execution_count": 143,
   "metadata": {},
   "outputs": [
    {
     "name": "stdout",
     "output_type": "stream",
     "text": [
      "0\n",
      "5\n",
      "10\n",
      "15\n"
     ]
    }
   ],
   "source": [
    "# loop with range() / range(start, stop) / range(start, stop, step)\n",
    "\n",
    "for i in range(0, 20, 5):\n",
    "    print(i)"
   ]
  },
  {
   "cell_type": "code",
   "execution_count": 144,
   "metadata": {},
   "outputs": [
    {
     "name": "stdout",
     "output_type": "stream",
     "text": [
      "(1, 23)\n",
      "(2, 55)\n",
      "(3, 7)\n",
      "(4, 8)\n",
      "(5, 19)\n",
      "(6, 32)\n"
     ]
    }
   ],
   "source": [
    "my_friends_ages = [23,55,7,8,19,32]\n",
    "\n",
    "for i in enumerate(my_friends_ages, start = 1):\n",
    "    print(i)"
   ]
  },
  {
   "cell_type": "code",
   "execution_count": 145,
   "metadata": {},
   "outputs": [
    {
     "name": "stdout",
     "output_type": "stream",
     "text": [
      "(10, 23)\n",
      "(11, 55)\n",
      "(12, 7)\n",
      "(13, 8)\n",
      "(14, 19)\n",
      "(15, 32)\n"
     ]
    }
   ],
   "source": [
    "# enumerate() function / define custom start --> the result is shown as a tuple\n",
    "\n",
    "my_friends_ages = [23,55,7,8,19,32]\n",
    "\n",
    "for i in enumerate(my_friends_ages, start = 10):\n",
    "    print(i)\n"
   ]
  },
  {
   "cell_type": "code",
   "execution_count": 146,
   "metadata": {},
   "outputs": [
    {
     "name": "stdout",
     "output_type": "stream",
     "text": [
      "10 23\n",
      "11 55\n",
      "12 7\n",
      "13 8\n",
      "14 19\n",
      "15 32\n"
     ]
    }
   ],
   "source": [
    "# you can unpack the tuple already inside the loop\n",
    "\n",
    "my_friends_ages = [23,55,7,8,19,32]\n",
    "\n",
    "for a,b in enumerate(my_friends_ages, start = 10):\n",
    "    print(a,b)\n",
    "    # print(a)\n",
    "    # print(b)"
   ]
  },
  {
   "cell_type": "markdown",
   "metadata": {},
   "source": [
    "pass / break / continue"
   ]
  },
  {
   "cell_type": "code",
   "execution_count": 147,
   "metadata": {},
   "outputs": [],
   "source": [
    "# pass: do nothing placeholder (i.e. because the loop code is still unfinished) \n",
    "\n",
    "my_friends_ages = [23,2,7,55,19,32]\n",
    "\n",
    "for age in my_friends_ages:\n",
    "    pass\n",
    "\n",
    "# to be continued asap\n",
    "    "
   ]
  },
  {
   "cell_type": "code",
   "execution_count": 148,
   "metadata": {},
   "outputs": [
    {
     "name": "stdout",
     "output_type": "stream",
     "text": [
      "23\n",
      "2\n",
      "7\n"
     ]
    }
   ],
   "source": [
    "# break: is used to break the loop when a condition is met\n",
    "\n",
    "my_friends_ages = [23,2,7,55,19,32]\n",
    "\n",
    "for age in my_friends_ages:\n",
    "    if age > 23:\n",
    "        break\n",
    "    print(age)\n",
    "    \n",
    "# this is a bit silly example, but I hope you understand the concept. We are exiting the loop at 55, because it is larger than 23.\n"
   ]
  },
  {
   "cell_type": "code",
   "execution_count": 149,
   "metadata": {},
   "outputs": [
    {
     "name": "stdout",
     "output_type": "stream",
     "text": [
      "h\n",
      "e\n",
      "o\n"
     ]
    }
   ],
   "source": [
    "# continue: skips when condition is met, but continues the loop afterwards\n",
    "\n",
    "for char in \"hello\":\n",
    "    if char == \"l\":\n",
    "        continue\n",
    "    print(char)\n"
   ]
  },
  {
   "cell_type": "code",
   "execution_count": 150,
   "metadata": {},
   "outputs": [
    {
     "name": "stdout",
     "output_type": "stream",
     "text": [
      "23 is an uneven number.\n",
      "7 is an uneven number.\n",
      "55 is an uneven number.\n",
      "19 is an uneven number.\n"
     ]
    }
   ],
   "source": [
    "# Print only even number / Print only uneven numbers\n",
    "\n",
    "my_friends_ages = [23,2,7,55,19,32]\n",
    "\n",
    "my_friends_ages = [23,2,7,55,19,32]\n",
    "\n",
    "# for i in my_friends_ages:\n",
    "#     if i % 2 == 0:\n",
    "#         print(i, \"is an even number.\")\n",
    "\n",
    "for i in my_friends_ages:\n",
    "    if i % 2 != 0:\n",
    "        print(i, \"is an uneven number.\")"
   ]
  },
  {
   "cell_type": "markdown",
   "metadata": {},
   "source": [
    "strings / tuples / dictionaries"
   ]
  },
  {
   "cell_type": "code",
   "execution_count": 151,
   "metadata": {},
   "outputs": [
    {
     "name": "stdout",
     "output_type": "stream",
     "text": [
      "f\n",
      "o\n",
      "e\n",
      "s\n"
     ]
    }
   ],
   "source": [
    "# for loop for strings: exclude x from foxes\n",
    "\n",
    "cohort = \"foxes\"\n",
    "\n",
    "for i in cohort:\n",
    "    if i != \"x\":\n",
    "        print(i)"
   ]
  },
  {
   "cell_type": "code",
   "execution_count": 152,
   "metadata": {},
   "outputs": [
    {
     "name": "stdout",
     "output_type": "stream",
     "text": [
      "RED\n",
      "GREEN\n",
      "BLUE\n"
     ]
    }
   ],
   "source": [
    "# for loop for tuples using upper()\n",
    "\n",
    "my_tup = (\"red\", \"green\", \"blue\")\n",
    "\n",
    "for i in my_tup:\n",
    "    print(i.upper())\n",
    "    "
   ]
  },
  {
   "cell_type": "code",
   "execution_count": 153,
   "metadata": {},
   "outputs": [
    {
     "data": {
      "text/plain": [
       "4"
      ]
     },
     "execution_count": 153,
     "metadata": {},
     "output_type": "execute_result"
    }
   ],
   "source": [
    "# create list of tuples / print len()\n",
    "\n",
    "my_list = [(1,2), (3,4), (5,6), (7,8)]\n",
    "\n",
    "len(my_list)"
   ]
  },
  {
   "cell_type": "code",
   "execution_count": 154,
   "metadata": {},
   "outputs": [
    {
     "name": "stdout",
     "output_type": "stream",
     "text": [
      "(1, 2)\n",
      "(3, 4)\n",
      "(5, 6)\n",
      "(7, 8)\n"
     ]
    }
   ],
   "source": [
    "# loop over the list of tuples / print item\n",
    "\n",
    "for i in my_list:\n",
    "    print(i)\n"
   ]
  },
  {
   "cell_type": "code",
   "execution_count": 155,
   "metadata": {},
   "outputs": [
    {
     "name": "stdout",
     "output_type": "stream",
     "text": [
      "2\n",
      "4\n",
      "6\n",
      "8\n"
     ]
    }
   ],
   "source": [
    "# try to acces just the first or the second part --> unpacking\n",
    "\n",
    "for a,b in my_list:\n",
    "    print(b)\n",
    "\n"
   ]
  },
  {
   "cell_type": "code",
   "execution_count": 156,
   "metadata": {},
   "outputs": [
    {
     "name": "stdout",
     "output_type": "stream",
     "text": [
      "favorite_animal\n",
      "favorite_color\n",
      "favorite_season\n",
      "craw\n",
      "black\n",
      "winter\n",
      "('favorite_animal', 'craw')\n",
      "('favorite_color', 'black')\n",
      "('favorite_season', 'winter')\n",
      "favorite_animal\n",
      "favorite_color\n",
      "favorite_season\n",
      "craw\n",
      "black\n",
      "winter\n"
     ]
    }
   ],
   "source": [
    "# for loop over dictionary / .values() / .items() / print(item[0],item[1])\n",
    "\n",
    "my_dict = {\n",
    "    \"favorite_animal\": \"craw\",\n",
    "    \"favorite_color\": \"black\",\n",
    "    \"favorite_season\": \"winter\"\n",
    "}\n",
    "\n",
    "for key in my_dict:\n",
    "    print(key)\n",
    "    \n",
    "for value in my_dict.values():\n",
    "    print(value)\n",
    "    \n",
    "for item in my_dict.items():\n",
    "    print(item)\n",
    "    \n",
    "for item in my_dict.items():  # does the same as default loop\n",
    "    print(item[0])\n",
    "    \n",
    "for a,b in my_dict.items():  # does the same as .values\n",
    "    print(b)\n"
   ]
  },
  {
   "cell_type": "markdown",
   "metadata": {},
   "source": [
    "## While Loop"
   ]
  },
  {
   "cell_type": "code",
   "execution_count": 157,
   "metadata": {},
   "outputs": [
    {
     "name": "stdout",
     "output_type": "stream",
     "text": [
      "finity\n",
      "finity\n",
      "finity\n",
      "finity\n",
      "finity\n"
     ]
    }
   ],
   "source": [
    "# beware of infinite loop\n",
    "\n",
    "x = 0\n",
    "\n",
    "while x < 5:\n",
    "    print(\"finity\")\n",
    "    x = x +1  # this prevents infinite loop\n"
   ]
  },
  {
   "cell_type": "code",
   "execution_count": 158,
   "metadata": {},
   "outputs": [
    {
     "name": "stdout",
     "output_type": "stream",
     "text": [
      "Inputed Color: red\n",
      "red is a color of the rainbow\n"
     ]
    }
   ],
   "source": [
    "# rainbow confirmation program / beware this is case sensitive if you want to try it out\n",
    "\n",
    "rainbow = ['red', 'orange', 'yellow', 'green', 'blue', 'indigo', 'violet']\n",
    "\n",
    "color = input(\"type a color\")\n",
    "print(\"Inputed Color:\", color)\n",
    "\n",
    "while color in rainbow:\n",
    "    print(color, \"is a color of the rainbow\")\n",
    "    break\n",
    "else:\n",
    "    print(color, \"is not a color of the rainbow\")\n"
   ]
  },
  {
   "cell_type": "code",
   "execution_count": 159,
   "metadata": {},
   "outputs": [
    {
     "name": "stdout",
     "output_type": "stream",
     "text": [
      "* * * * \n",
      "* * * * \n",
      "* * * * \n"
     ]
    }
   ],
   "source": [
    "# nested loop: stars / this is just an example no need to use nested loops at this stage\n",
    "\n",
    "for i in range(3):\n",
    "    for j in range(4):\n",
    "        print(\"*\", end = \" \")   # the end = \" \" is formatting the output of the inner loop next to each other\n",
    "    print()\n"
   ]
  },
  {
   "cell_type": "code",
   "execution_count": 160,
   "metadata": {},
   "outputs": [
    {
     "name": "stdout",
     "output_type": "stream",
     "text": [
      " 1  2  3  4  5 \n",
      " 2  4  6  8 10 \n",
      " 3  6  9 12 15 \n",
      " 4  8 12 16 20 \n",
      " 5 10 15 20 25 \n"
     ]
    }
   ],
   "source": [
    "# nested loop: multiplication table (for loop)\n",
    "\n",
    "for i in range(1,6):\n",
    "    for j in range(1,6):\n",
    "        print(f\"{i*j:2}\", end = \" \")  # What does j:2 do? It makes the result at least 2 characters wide, aligning it to the right by default.\n",
    "    print()\n",
    "\n"
   ]
  },
  {
   "cell_type": "markdown",
   "metadata": {},
   "source": [
    "## List Comprehension"
   ]
  },
  {
   "cell_type": "code",
   "execution_count": 161,
   "metadata": {},
   "outputs": [
    {
     "name": "stdout",
     "output_type": "stream",
     "text": [
      "[1, 2, 3, 4, 5, 6]\n"
     ]
    }
   ],
   "source": [
    "# make copy of list the traditional way\n",
    "my_list=[1,2,3,4,5,6]\n",
    "\n",
    "list_copy = []\n",
    "\n",
    "for i in my_list:\n",
    "    if i not in list_copy:\n",
    "        list_copy.append(i)\n",
    "        \n",
    "print(list_copy)\n",
    "    "
   ]
  },
  {
   "cell_type": "code",
   "execution_count": 162,
   "metadata": {},
   "outputs": [
    {
     "data": {
      "text/plain": [
       "[2, 4, 6]"
      ]
     },
     "execution_count": 162,
     "metadata": {},
     "output_type": "execute_result"
    }
   ],
   "source": [
    "# make copy of list using list comprehension\n",
    "\n",
    "my_list=[1,2,3,4,5,6]\n",
    "\n",
    "list_copy = [i for i in my_list if i % 2 == 0]\n",
    "list_copy\n"
   ]
  },
  {
   "cell_type": "code",
   "execution_count": 163,
   "metadata": {},
   "outputs": [],
   "source": [
    "# make copy of list with manipulation\n",
    "\n",
    "my_list=[1,2,3,4,5,6]\n",
    "\n",
    "\n"
   ]
  },
  {
   "cell_type": "code",
   "execution_count": 164,
   "metadata": {},
   "outputs": [],
   "source": [
    "# create a new list only using even numbers\n",
    "\n",
    "my_list=[1,2,3,4,5,6]\n",
    "\n",
    "\n"
   ]
  },
  {
   "cell_type": "markdown",
   "metadata": {},
   "source": [
    "## Group Challenge (optional)"
   ]
  },
  {
   "cell_type": "code",
   "execution_count": 165,
   "metadata": {},
   "outputs": [
    {
     "data": {
      "text/plain": [
       "\" Evolution as a Sequence of Mistakes\\n\\nProblem\\nThe Hamming distance between two strings is the number of positions where the symbols (letters) are different.\\nYou're given two DNA strings s and t that are the same length (no longer than 1,000 letters).\\nGoal: Count how many positions are different between s and t.\\n\\nSample Dataset\\ns = GAGCCTACTAACGGGAT\\nt = CATCGTAATGACGGCCT\\n\\n\\nSample Output\\nThe Hamming distance is 7\\n\\n\""
      ]
     },
     "execution_count": 165,
     "metadata": {},
     "output_type": "execute_result"
    }
   ],
   "source": [
    "\"\"\" Evolution as a Sequence of Mistakes\n",
    "\n",
    "Problem\n",
    "The Hamming distance between two strings is the number of positions where the symbols (letters) are different.\n",
    "You're given two DNA strings s and t that are the same length (no longer than 1,000 letters).\n",
    "Goal: Count how many positions are different between s and t.\n",
    "\n",
    "Sample Dataset\n",
    "s = GAGCCTACTAACGGGAT\n",
    "t = CATCGTAATGACGGCCT\n",
    "\n",
    "\n",
    "Sample Output\n",
    "The Hamming distance is 7\n",
    "\n",
    "\"\"\""
   ]
  },
  {
   "cell_type": "code",
   "execution_count": 166,
   "metadata": {},
   "outputs": [
    {
     "data": {
      "text/plain": [
       "7"
      ]
     },
     "execution_count": 166,
     "metadata": {},
     "output_type": "execute_result"
    }
   ],
   "source": [
    "# solution using for loop\n",
    "\n",
    "s = \"GAGCCTACTAACGGGAT\"\n",
    "t = \"CATCGTAATGACGGCCT\"\n",
    "\n",
    "counter = 0\n",
    "\n",
    "for i in range(len(s)):\n",
    "    if s[i] != t[i]:\n",
    "        counter = counter + 1\n",
    "\n",
    "counter"
   ]
  },
  {
   "cell_type": "code",
   "execution_count": 167,
   "metadata": {},
   "outputs": [
    {
     "data": {
      "text/plain": [
       "7"
      ]
     },
     "execution_count": 167,
     "metadata": {},
     "output_type": "execute_result"
    }
   ],
   "source": [
    "# solution using while loop (including exit plan) \n",
    "\n",
    "s = \"GAGCCTACTAACGGGAT\"\n",
    "t = \"CATCGTAATGACGGCCT\"\n",
    "\n",
    "\n",
    "counter = 0\n",
    "i = 0\n",
    "\n",
    "while i < len(s):\n",
    "    if s[i] != t[i]:\n",
    "        counter = counter + 1\n",
    "    i += 1\n",
    "    \n",
    "counter"
   ]
  }
 ],
 "metadata": {
  "kernelspec": {
   "display_name": "CodeAcademyBasic",
   "language": "python",
   "name": "python3"
  },
  "language_info": {
   "codemirror_mode": {
    "name": "ipython",
    "version": 3
   },
   "file_extension": ".py",
   "mimetype": "text/x-python",
   "name": "python",
   "nbconvert_exporter": "python",
   "pygments_lexer": "ipython3",
   "version": "3.12.9"
  }
 },
 "nbformat": 4,
 "nbformat_minor": 2
}
