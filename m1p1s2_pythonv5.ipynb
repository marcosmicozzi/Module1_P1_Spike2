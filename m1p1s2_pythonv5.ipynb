{
 "cells": [
  {
   "cell_type": "code",
   "execution_count": 1,
   "metadata": {},
   "outputs": [
    {
     "name": "stdout",
     "output_type": "stream",
     "text": [
      "My name is Marcos.\n"
     ]
    }
   ],
   "source": [
    "my_name = 'Marcos'\n",
    "#This will print my name\n",
    "print('My name is ' + my_name + '.')"
   ]
  },
  {
   "cell_type": "code",
   "execution_count": 2,
   "metadata": {},
   "outputs": [
    {
     "name": "stdout",
     "output_type": "stream",
     "text": [
      "I am 32 years old.\n"
     ]
    }
   ],
   "source": [
    "age = 32\n",
    "#this will print my age\n",
    "print('I am ' + str(age) + ' years old.')"
   ]
  },
  {
   "cell_type": "code",
   "execution_count": 3,
   "metadata": {},
   "outputs": [
    {
     "name": "stdout",
     "output_type": "stream",
     "text": [
      "Julia is 32 years old.\n",
      "The age difference between Julia and myself is 0 , it seems like we are the same age.\n"
     ]
    }
   ],
   "source": [
    "julia_age = 32\n",
    "#This will print Julias age. \n",
    "print('Julia is ' + str(julia_age) + ' years old.')\n",
    "age_diff = age - julia_age\n",
    "print('The age difference between Julia and myself is ' + str(age_diff) + ' , it seems like we are the same age.')\n"
   ]
  },
  {
   "cell_type": "code",
   "execution_count": 4,
   "metadata": {},
   "outputs": [
    {
     "name": "stdout",
     "output_type": "stream",
     "text": [
      "You are older than 21 years old. You are free!\n",
      "Yes Julia! You are older than 21, welcome :)\n"
     ]
    }
   ],
   "source": [
    "# If statement that compares our age to the value of 21 and prints different outputs depending on the users age. \n",
    "if age > 21:\n",
    "    print('You are older than 21 years old. You are free!')\n",
    "elif age == 21:\n",
    "    print('You are 21 years old.')\n",
    "else:\n",
    "    print('You are not old enough, I am sorry.')\n",
    "\n",
    "if julia_age > 21:\n",
    "    print('Yes Julia! You are older than 21, welcome :)')\n",
    "elif julia_age == 21:\n",
    "    print('You are 21 years old.')\n",
    "else:\n",
    "    print('You are not old enough, I am sorry.')"
   ]
  },
  {
   "cell_type": "code",
   "execution_count": 5,
   "metadata": {},
   "outputs": [
    {
     "name": "stdout",
     "output_type": "stream",
     "text": [
      "It seems like we are the same age! Were you born in 1993?\n"
     ]
    }
   ],
   "source": [
    "# If statement that compares our age to the age of Julia and prints different outputs depending on the users age. \n",
    "\n",
    "if age > julia_age:\n",
    "    print('It seems like I am older than you, Julia.')\n",
    "elif age == julia_age:\n",
    "    print('It seems like we are the same age! Were you born in 1993?')\n",
    "else:\n",
    "    print('Respect your elders Julia..')"
   ]
  },
  {
   "cell_type": "code",
   "execution_count": null,
   "metadata": {},
   "outputs": [
    {
     "name": "stdout",
     "output_type": "stream",
     "text": [
      "------\n",
      "['Bo', 'Bruno', 'Janinna', 'Kea', 'Marcos', 'Rahul', 'Vishnu']\n",
      "------\n",
      "Vishnu\n",
      "------\n",
      "Bo\n",
      "Bruno\n",
      "Janinna\n",
      "Kea\n",
      "Marcos\n",
      "Rahul\n",
      "Vishnu\n"
     ]
    }
   ],
   "source": [
    "names = ['Marcos', 'Bo', 'Bruno', 'Vishnu', 'Janinna', 'Kea', 'Rahul']\n",
    "names.sort()\n",
    "print('------')\n",
    "# print allnames sorted alphabetically\n",
    "print(names)\n",
    "print('------')\n",
    "# print the last name\n",
    "print(names[-1])\n",
    "print('------')\n",
    "# Print all names not as a list but as different outputs. \n",
    "for i in names:\n",
    "    print(i)\n"
   ]
  },
  {
   "cell_type": "markdown",
   "metadata": {},
   "source": [
    "# excercise 7"
   ]
  },
  {
   "cell_type": "code",
   "execution_count": 3,
   "metadata": {},
   "outputs": [
    {
     "name": "stdout",
     "output_type": "stream",
     "text": [
      "32 19 25 28 25 32 33 -------\n",
      "32 28 32 "
     ]
    }
   ],
   "source": [
    "# Excercise 7 \n",
    "# first try - output is infinite\n",
    "ages = [32, 19, 25, 28, 25, 32, 33]\n",
    "for i in ages:\n",
    "    print(i, end=' ')\n",
    "\n",
    "print('-------')\n",
    "\n",
    "for i in ages:\n",
    "    if i % 2 == 0:\n",
    "        print(i, end=' ')\n",
    "\n",
    "    "
   ]
  },
  {
   "cell_type": "code",
   "execution_count": 8,
   "metadata": {},
   "outputs": [
    {
     "name": "stdout",
     "output_type": "stream",
     "text": [
      "32\n",
      "19\n",
      "25\n",
      "28\n",
      "25\n",
      "32\n",
      "33\n"
     ]
    }
   ],
   "source": [
    "ages = [32, 19, 25, 28, 25, 32, 33]\n",
    "\n",
    "\n",
    "for age in ages:\n",
    "    count = 0\n",
    "    while count < len(ages):\n",
    "        print(age)\n",
    "        count = count + 1\n",
    "        break"
   ]
  },
  {
   "cell_type": "code",
   "execution_count": 9,
   "metadata": {},
   "outputs": [
    {
     "name": "stdout",
     "output_type": "stream",
     "text": [
      "32\n",
      "28\n",
      "32\n"
     ]
    }
   ],
   "source": [
    "for age in ages:\n",
    "    count = 0\n",
    "    while count < len(ages):\n",
    "        if age % 2 == 0:\n",
    "            print(age)\n",
    "        count = count + 1\n",
    "        break"
   ]
  },
  {
   "cell_type": "markdown",
   "metadata": {},
   "source": [
    "# Excercise 8 and 9\n",
    "### Write a list containing numbers and print the lowest number.\n",
    "\n"
   ]
  },
  {
   "cell_type": "code",
   "execution_count": 10,
   "metadata": {},
   "outputs": [
    {
     "name": "stdout",
     "output_type": "stream",
     "text": [
      "1\n"
     ]
    }
   ],
   "source": [
    "numbers = [1, 2, 3, 4, 5, 6]\n",
    "print(min(numbers))"
   ]
  },
  {
   "cell_type": "code",
   "execution_count": 11,
   "metadata": {},
   "outputs": [
    {
     "name": "stdout",
     "output_type": "stream",
     "text": [
      "6\n"
     ]
    }
   ],
   "source": [
    "numbers = [1, 2, 3, 4, 5, 6]\n",
    "print(max(numbers))"
   ]
  },
  {
   "cell_type": "code",
   "execution_count": 12,
   "metadata": {},
   "outputs": [],
   "source": [
    "# or"
   ]
  },
  {
   "cell_type": "code",
   "execution_count": 13,
   "metadata": {},
   "outputs": [
    {
     "name": "stdout",
     "output_type": "stream",
     "text": [
      "1\n"
     ]
    }
   ],
   "source": [
    "numbers = [1, 3, 2, 4, 9, 6]\n",
    "numbers.sort()\n",
    "print(numbers[0])"
   ]
  },
  {
   "cell_type": "code",
   "execution_count": 14,
   "metadata": {},
   "outputs": [
    {
     "name": "stdout",
     "output_type": "stream",
     "text": [
      "9\n"
     ]
    }
   ],
   "source": [
    "numbers = [1, 3, 2, 4, 9, 6]\n",
    "numbers.sort()\n",
    "print(numbers[len(numbers) - 1])"
   ]
  },
  {
   "cell_type": "markdown",
   "metadata": {},
   "source": [
    "# Exercise 10\n",
    "### Given below is a list of 10 customers with year of birth, however, the list can be as large as several thousands of customers.\n",
    "\n",
    "### [1999, 1995, 2005, 2010, 2007, 2006, 1994, 1996, 1979, 2008]\n"
   ]
  },
  {
   "cell_type": "code",
   "execution_count": 4,
   "metadata": {},
   "outputs": [
    {
     "name": "stdout",
     "output_type": "stream",
     "text": [
      "26 30 20 15 18 19 31 29 46 17 "
     ]
    }
   ],
   "source": [
    "customers_year_birth = [1999, 1995, 2005, 2010, 2007, 2006, 1994, 1996, 1979, 2008]\n",
    "\n",
    "for year in customers_year_birth:\n",
    "    print(2025 - year, end = \" \")"
   ]
  },
  {
   "cell_type": "markdown",
   "metadata": {},
   "source": [
    "# Exercise 11\n",
    "### Given below is a list of 10 customers with name and year of birth, however, the list can be as large as several thousands of customers.\n",
    "\n",
    "### Use a loop to iterate over the list and print the name and age of each customer."
   ]
  },
  {
   "cell_type": "code",
   "execution_count": 3,
   "metadata": {},
   "outputs": [
    {
     "name": "stdout",
     "output_type": "stream",
     "text": [
      "['Bob', 26]\n",
      "['Jack', 30]\n",
      "['Lisa', 20]\n",
      "['Maria', 15]\n",
      "['Ben', 18]\n",
      "['Emma', 19]\n",
      "['Oscar', 31]\n",
      "['Amy', 29]\n",
      "['Paul', 46]\n",
      "['Etta', 17]\n"
     ]
    }
   ],
   "source": [
    "customer_list = [\n",
    "                    {\"name\": \"Bob\", \"age\": 1999},\n",
    "                    {\"name\": \"Jack\", \"age\": 1995},\n",
    "                    {\"name\": \"Lisa\", \"age\": 2005},\n",
    "                    {\"name\": \"Maria\", \"age\": 2010},\n",
    "                    {\"name\": \"Ben\", \"age\": 2007},\n",
    "                    {\"name\": \"Emma\", \"age\": 2006},\n",
    "                    {\"name\": \"Oscar\", \"age\": 1994},\n",
    "                    {\"name\": \"Amy\", \"age\": 1996},\n",
    "                    {\"name\": \"Paul\", \"age\": 1979},\n",
    "                    {\"name\": \"Etta\", \"age\": 2008}\n",
    "                ]\n",
    "\n",
    "for i in customer_list:\n",
    "    new_customer_list = []\n",
    "    for x in i.values():\n",
    "        if type(x) == str:\n",
    "            new_customer_list.append(x)\n",
    "        else:\n",
    "            new_customer_list.append(2025 - x)\n",
    "    print(new_customer_list)\n",
    "\n"
   ]
  },
  {
   "cell_type": "markdown",
   "metadata": {},
   "source": [
    "### Afterwards, for each customer try to print the sentence \"customer_name is customer_age years old\".\n",
    "### customer_name and customer_age should correspond to each customer's name and age."
   ]
  },
  {
   "cell_type": "code",
   "execution_count": 1,
   "metadata": {},
   "outputs": [
    {
     "name": "stdout",
     "output_type": "stream",
     "text": [
      "['Bob', 1999, 'Jack', 1995, 'Lisa', 2005, 'Maria', 2010, 'Ben', 2007, 'Emma', 2006, 'Oscar', 1994, 'Amy', 1996, 'Paul', 1979, 'Etta', 2008]\n"
     ]
    }
   ],
   "source": [
    "customer_list = [\n",
    "                    {\"name\": \"Bob\", \"age\": 1999},\n",
    "                    {\"name\": \"Jack\", \"age\": 1995},\n",
    "                    {\"name\": \"Lisa\", \"age\": 2005},\n",
    "                    {\"name\": \"Maria\", \"age\": 2010},\n",
    "                    {\"name\": \"Ben\", \"age\": 2007},\n",
    "                    {\"name\": \"Emma\", \"age\": 2006},\n",
    "                    {\"name\": \"Oscar\", \"age\": 1994},\n",
    "                    {\"name\": \"Amy\", \"age\": 1996},\n",
    "                    {\"name\": \"Paul\", \"age\": 1979},\n",
    "                    {\"name\": \"Etta\", \"age\": 2008}\n",
    "                ]\n",
    "\n",
    "\n",
    "\n",
    "\n",
    "all_values = []\n",
    "names = []\n",
    "years = []\n",
    "for i in customer_list:\n",
    "    for value in i.values():\n",
    "        all_values.append(value)\n",
    "\n",
    "\n",
    "print(all_values)\n",
    "\n",
    "\n"
   ]
  },
  {
   "cell_type": "code",
   "execution_count": null,
   "metadata": {},
   "outputs": [
    {
     "name": "stdout",
     "output_type": "stream",
     "text": [
      "['Bob', 1999, 'Jack', 1995, 'Lisa', 2005, 'Maria', 2010, 'Ben', 2007, 'Emma', 2006, 'Oscar', 1994, 'Amy', 1996, 'Paul', 1979, 'Etta', 2008]\n",
      "['Bob', 'Jack', 'Lisa', 'Maria', 'Ben', 'Emma', 'Oscar', 'Amy', 'Paul', 'Etta']\n",
      "[1999, 1995, 2005, 2010, 2007, 2006, 1994, 1996, 1979, 2008]\n"
     ]
    }
   ],
   "source": [
    "all_values = []\n",
    "names = []\n",
    "years = []\n",
    "\n",
    "for i in customer_list:\n",
    "    for value in i.values():\n",
    "        all_values.append(value)\n",
    "\n",
    "print(all_values)\n",
    "\n",
    "for x in all_values:\n",
    "    if type(x) == str:\n",
    "        names.append(x)\n",
    "    else:\n",
    "        years.append(x)\n",
    "\n",
    "print(names)\n",
    "print(years)"
   ]
  },
  {
   "cell_type": "code",
   "execution_count": null,
   "metadata": {},
   "outputs": [
    {
     "name": "stdout",
     "output_type": "stream",
     "text": [
      "['Bob', 1999, 'Jack', 1995, 'Lisa', 2005, 'Maria', 2010, 'Ben', 2007, 'Emma', 2006, 'Oscar', 1994, 'Amy', 1996, 'Paul', 1979, 'Etta', 2008]\n",
      "['Bob', 'Jack', 'Lisa', 'Maria', 'Ben', 'Emma', 'Oscar', 'Amy', 'Paul', 'Etta']\n",
      "[1999, 1995, 2005, 2010, 2007, 2006, 1994, 1996, 1979, 2008]\n",
      "10\n",
      "10\n",
      "Bob is 26 years old.\n",
      "Jack is 30 years old.\n",
      "Lisa is 20 years old.\n",
      "Maria is 15 years old.\n",
      "Ben is 18 years old.\n",
      "Emma is 19 years old.\n",
      "Oscar is 31 years old.\n",
      "Amy is 29 years old.\n",
      "Paul is 46 years old.\n",
      "Etta is 17 years old.\n"
     ]
    }
   ],
   "source": [
    "all_values = []\n",
    "names = []\n",
    "years = []\n",
    "for i in customer_list:\n",
    "    for value in i.values():\n",
    "        all_values.append(value)\n",
    "\n",
    "print(all_values)\n",
    "\n",
    "for x in all_values:\n",
    "    if type(x) == str:\n",
    "        names.append(x)\n",
    "    else:\n",
    "        years.append(x)\n",
    "\n",
    "print(names)\n",
    "print(years)\n",
    "\n",
    "#print(len(names))\n",
    "#print(len(years))\n",
    "\n",
    "for i in range(len(names)):\n",
    "    print(f'{names[i]} is {2025 - years[i]} years old.')"
   ]
  },
  {
   "cell_type": "markdown",
   "metadata": {},
   "source": [
    "# New Way of doing Excercise 11\n",
    "\n",
    "### Afterwards, for each customer try to print the sentence \"customer_name is customer_age years old\".\n",
    "### customer_name and customer_age should correspond to each customer's name and age."
   ]
  },
  {
   "cell_type": "code",
   "execution_count": null,
   "metadata": {},
   "outputs": [
    {
     "name": "stdout",
     "output_type": "stream",
     "text": [
      "['Bob', 26, 'Jack', 30, 'Lisa', 20, 'Maria', 15, 'Ben', 18, 'Emma', 19, 'Oscar', 31, 'Amy', 29, 'Paul', 46, 'Etta', 17]\n",
      "-----\n",
      "Bob is 26 years old.\n",
      "Jack is 30 years old.\n",
      "Lisa is 20 years old.\n",
      "Maria is 15 years old.\n",
      "Ben is 18 years old.\n",
      "Emma is 19 years old.\n",
      "Oscar is 31 years old.\n",
      "Amy is 29 years old.\n",
      "Paul is 46 years old.\n",
      "Etta is 17 years old.\n"
     ]
    }
   ],
   "source": [
    "from datetime import datetime\n",
    "\n",
    "# Original customer list. \n",
    "customer_list = [\n",
    "                    {\"name\": \"Bob\", \"age\": 1999},\n",
    "                    {\"name\": \"Jack\", \"age\": 1995},\n",
    "                    {\"name\": \"Lisa\", \"age\": 2005},\n",
    "                    {\"name\": \"Maria\", \"age\": 2010},\n",
    "                    {\"name\": \"Ben\", \"age\": 2007},\n",
    "                    {\"name\": \"Emma\", \"age\": 2006},\n",
    "                    {\"name\": \"Oscar\", \"age\": 1994},\n",
    "                    {\"name\": \"Amy\", \"age\": 1996},\n",
    "                    {\"name\": \"Paul\", \"age\": 1979},\n",
    "                    {\"name\": \"Etta\", \"age\": 2008}\n",
    "                ]\n",
    "\n",
    "# Created a new customer list. \n",
    "new_customer_list = []\n",
    "\n",
    "# Append values to customer list. \n",
    "for i in customer_list:\n",
    "    for x in i.values():\n",
    "        if type(x) == str:\n",
    "            new_customer_list.append(x)\n",
    "        else:\n",
    "            new_customer_list.append(datetime.now().year - x)\n",
    "print(new_customer_list)\n",
    "\n",
    "# Print separation line. \n",
    "print('-----')\n",
    "\n",
    "# Created two new lists depending on the type of value to separate names from age. \n",
    "names = []\n",
    "age = []\n",
    "\n",
    "# for loop that iterates through list and appends values to lists depending on type. \n",
    "for i in new_customer_list:\n",
    "    if type(i) == str:\n",
    "        names.append(i)\n",
    "    else:\n",
    "        age.append(i)   \n",
    "\n",
    "# print final message\n",
    "for i in range(len(names)):\n",
    "    print(f'{names[i]} is {age[i]} years old.') \n",
    "\n"
   ]
  },
  {
   "cell_type": "markdown",
   "metadata": {},
   "source": [
    "# Excercise 12\n",
    "\n",
    "Given a list of ages, remove the youngest and the oldest person.\n",
    "\n",
    "ages = [20, 24, 14, 9, 12, 13, 25, 23, 40, 11]\n",
    "For this exercise try not to use the max() and min() methods."
   ]
  },
  {
   "cell_type": "code",
   "execution_count": 20,
   "metadata": {},
   "outputs": [
    {
     "name": "stdout",
     "output_type": "stream",
     "text": [
      "[9, 11, 12, 13, 14, 20, 23, 24, 25, 40]\n",
      "------\n",
      "[9, 11, 12, 13, 14, 20, 23, 24, 25]\n",
      "------\n",
      "[11, 12, 13, 14, 20, 23, 24, 25]\n"
     ]
    }
   ],
   "source": [
    "ages = [20, 24, 14, 9, 12, 13, 25, 23, 40, 11]\n",
    "ages.sort()\n",
    "print(ages)\n",
    "print('------')\n",
    "ages.pop()\n",
    "print(ages)\n",
    "print('------')\n",
    "ages.remove(ages[0])\n",
    "print(ages)"
   ]
  },
  {
   "cell_type": "markdown",
   "metadata": {},
   "source": [
    "# Excercise 13\n",
    "\n",
    "\n",
    "You have two lists with ages of customers from different cities.\n",
    "\n",
    "berlin = [15, 13, 16, 18, 19, 10, 12 ]\n",
    "\n",
    "munich = [7, 13, 15, 20, 19, 18, 10, 16]\n",
    "\n",
    "The task is to create a new list with the common ages."
   ]
  },
  {
   "cell_type": "code",
   "execution_count": 21,
   "metadata": {},
   "outputs": [
    {
     "name": "stdout",
     "output_type": "stream",
     "text": [
      "[15, 13, 16, 18, 19, 10]\n"
     ]
    }
   ],
   "source": [
    "berlin = [15, 13, 16, 18, 19, 10, 12 ]\n",
    "munich = [7, 13, 15, 20, 19, 18, 10, 16]\n",
    "\n",
    "common_ages = []\n",
    "for age in berlin:\n",
    "    if age in munich:\n",
    "        common_ages.append(age)\n",
    "\n",
    "print(common_ages)\n"
   ]
  },
  {
   "cell_type": "markdown",
   "metadata": {},
   "source": [
    "# Exercise 14\n",
    "\n",
    "You have a list with ages.\n",
    "\n",
    "[15, 13, 16, 18, 19, 15, 10]\n",
    "\n",
    "Remove the duplicates."
   ]
  },
  {
   "cell_type": "code",
   "execution_count": null,
   "metadata": {},
   "outputs": [
    {
     "name": "stdout",
     "output_type": "stream",
     "text": [
      "[10, 13, 15, 15, 16, 18, 19]\n",
      "{10: None, 13: None, 15: None, 16: None, 18: None, 19: None}\n",
      "------\n",
      "[16, 18, 19, 10, 13, 15]\n"
     ]
    }
   ],
   "source": [
    "ages_new = [15, 13, 16, 18, 19, 15, 10]\n",
    "\n",
    "ages_new.sort()\n",
    "print(ages_new)\n",
    "\n",
    "# here, we are creating a dictionary and back to a list in one go ( I dont understand why it worked as dictionaries do accept duplicates) CORRECTION: It worked because Keys are unique.\n",
    "ages_new = list(dict.fromkeys(ages_new))\n",
    "print(ages_new)\n",
    "\n",
    "print('------')\n",
    "\n",
    "# Iactually should have created a list intead of a dictionary, I am not sure why it worked. \n",
    "# Below I did it as a set. \n",
    "ages_new = list(set(ages_new))\n",
    "print(ages_new)"
   ]
  },
  {
   "cell_type": "markdown",
   "metadata": {},
   "source": [
    "# Exercise 15\n",
    "\n",
    "Write a function that takes a person's name and prints a custom message for them.\n",
    "\n",
    "\n",
    "E.g. Function name: welcome\n",
    "\n",
    "\n",
    "welcome('Evelyn') would print- 'Welcome Evelyn, have a nice day!'\n",
    "\n",
    "\n",
    "welcome('Jost'), would print - 'Welcome Jost, have a nice day!'"
   ]
  },
  {
   "cell_type": "code",
   "execution_count": 5,
   "metadata": {},
   "outputs": [
    {
     "data": {
      "text/plain": [
       "'Welcome Sophia'"
      ]
     },
     "execution_count": 5,
     "metadata": {},
     "output_type": "execute_result"
    }
   ],
   "source": [
    "def welcome(your_name):\n",
    "    return (f'Welcome {your_name}')\n",
    "\n",
    "\n",
    "\n",
    "welcome('Marcos')\n",
    "welcome('Sophia')\n"
   ]
  },
  {
   "cell_type": "markdown",
   "metadata": {},
   "source": [
    "# Exercise 16\n",
    "\n",
    "Write a function that takes a string as input and calculates the length.\n",
    "\n",
    "\n",
    "Function name: get_length\n",
    "\n",
    "\n",
    "get_length('Hello') would print / return 5.\n",
    "\n",
    "\n",
    "get_length('Hi') would print / return 2."
   ]
  },
  {
   "cell_type": "code",
   "execution_count": 6,
   "metadata": {},
   "outputs": [
    {
     "data": {
      "text/plain": [
       "23"
      ]
     },
     "execution_count": 6,
     "metadata": {},
     "output_type": "execute_result"
    }
   ],
   "source": [
    "def get_length(words):\n",
    "    return (len(words))\n",
    "\n",
    "get_length('I was once 15 years old')"
   ]
  },
  {
   "cell_type": "markdown",
   "metadata": {},
   "source": [
    "# Exercise 17\n",
    "\n",
    "Write a function which checks whether a number is even.\n",
    "\n",
    "\n",
    "Function name: check_even\n",
    "\n",
    "\n",
    "check_even(6) would print / return 'Yes'\n",
    "\n",
    "\n",
    "check_even(5) would print / return 'No'"
   ]
  },
  {
   "cell_type": "code",
   "execution_count": null,
   "metadata": {},
   "outputs": [
    {
     "name": "stdout",
     "output_type": "stream",
     "text": [
      "Yes, your number is even, you chose 6.\n",
      "No, your number is not even, you chose 9.\n"
     ]
    }
   ],
   "source": [
    "def check_even(your_number):\n",
    "    if your_number % 2 ==0:\n",
    "        print(f'Yes, your number is even, you chose {your_number}.')\n",
    "    else:\n",
    "        print(f'No, your number is not even, you chose {your_number}.')\n",
    "    # do i need a return here?\n",
    "check_even(6)\n",
    "check_even(9)"
   ]
  },
  {
   "cell_type": "markdown",
   "metadata": {},
   "source": [
    "# Exercise 18\n",
    "\n",
    "Rewrite exercises 11, 12, 13, and 14 in a function."
   ]
  },
  {
   "cell_type": "markdown",
   "metadata": {},
   "source": [
    "Excercise 11"
   ]
  },
  {
   "cell_type": "code",
   "execution_count": 10,
   "metadata": {},
   "outputs": [
    {
     "name": "stdout",
     "output_type": "stream",
     "text": [
      "Bob is 26 years old.\n",
      "Jack is 30 years old.\n",
      "Lisa is 20 years old.\n",
      "Maria is 15 years old.\n",
      "Ben is 18 years old.\n",
      "Emma is 19 years old.\n",
      "Oscar is 31 years old.\n",
      "Amy is 29 years old.\n",
      "Paul is 46 years old.\n",
      "Etta is 17 years old.\n"
     ]
    }
   ],
   "source": [
    "\n",
    "# The trick here is that we need to replace the name of the customer_list in our code by the your_list_new\n",
    "# so that any value we add there it will make sense with the code.\n",
    "customer_list = [\n",
    "                    {\"name\": \"Bob\", \"age\": 1999},\n",
    "                    {\"name\": \"Jack\", \"age\": 1995},\n",
    "                    {\"name\": \"Lisa\", \"age\": 2005},\n",
    "                    {\"name\": \"Maria\", \"age\": 2010},\n",
    "                    {\"name\": \"Ben\", \"age\": 2007},\n",
    "                    {\"name\": \"Emma\", \"age\": 2006},\n",
    "                    {\"name\": \"Oscar\", \"age\": 1994},\n",
    "                    {\"name\": \"Amy\", \"age\": 1996},\n",
    "                    {\"name\": \"Paul\", \"age\": 1979},\n",
    "                    {\"name\": \"Etta\", \"age\": 2008}\n",
    "                ]\n",
    "\n",
    "def changing_file_types(your_list_new):\n",
    "    \n",
    "    # here I create a new list with all values\n",
    "    all_values = []\n",
    "    names = []\n",
    "    years = []\n",
    "    for i in your_list_new:\n",
    "        for value in i.values():\n",
    "            all_values.append(value)\n",
    "\n",
    "    # here I divide between str and int and create two new lists where I append the results. \n",
    "    for x in all_values:\n",
    "        if type(x) == str:\n",
    "            names.append(x)\n",
    "        else:\n",
    "            years.append(x)\n",
    "    # here I print the final message\n",
    "    for i in range(len(names)):\n",
    "        print(f'{names[i]} is {2025 - years[i]} years old.')\n",
    "    return\n",
    "    # do I need a return here? nope. \n",
    "\n",
    "changing_file_types(customer_list)"
   ]
  },
  {
   "cell_type": "markdown",
   "metadata": {},
   "source": [
    "Excercise 12\n",
    "\n",
    "\n",
    "Given a list of ages, remove the youngest and the oldest person.\n",
    "\n",
    "ages = [20, 24, 14, 9, 12, 13, 25, 23, 40, 11]\n",
    "For this exercise try not to use the max() and min() methods."
   ]
  },
  {
   "cell_type": "code",
   "execution_count": 3,
   "metadata": {},
   "outputs": [
    {
     "data": {
      "text/plain": [
       "[11, 12, 13, 14, 20, 23, 24, 25]"
      ]
     },
     "execution_count": 3,
     "metadata": {},
     "output_type": "execute_result"
    }
   ],
   "source": [
    "ages = [20, 24, 14, 9, 12, 13, 25, 23, 40, 11]\n",
    "\n",
    "def remove_extremes(your_ages):\n",
    "    your_ages.sort()\n",
    "    your_ages.pop()\n",
    "    your_ages.remove(your_ages[0])\n",
    "    return your_ages\n",
    "\n",
    "remove_extremes(ages)"
   ]
  },
  {
   "cell_type": "markdown",
   "metadata": {},
   "source": [
    "Excercise 13\n",
    "\n",
    "You have two lists with ages of customers from different cities.\n",
    "\n",
    "berlin = [15, 13, 16, 18, 19, 10, 12 ]\n",
    "\n",
    "munich = [7, 13, 15, 20, 19, 18, 10, 16]\n",
    "\n",
    "The task is to create a new list with the common ages."
   ]
  },
  {
   "cell_type": "code",
   "execution_count": null,
   "metadata": {},
   "outputs": [
    {
     "data": {
      "text/plain": [
       "[15, 13, 16, 18, 19, 10]"
      ]
     },
     "execution_count": 2,
     "metadata": {},
     "output_type": "execute_result"
    }
   ],
   "source": [
    "berlin = [15, 13, 16, 18, 19, 10, 12 ]\n",
    "munich = [7, 13, 15, 20, 19, 18, 10, 16]\n",
    "\n",
    "\n",
    "def new_with_common(your_list_a, your_list_b):\n",
    "    common_ages = []\n",
    "    for age in your_list_a:\n",
    "        if age in your_list_b:\n",
    "            common_ages.append(age)\n",
    "    return common_ages\n",
    "\n",
    "\n",
    "new_with_common(berlin, munich)\n"
   ]
  },
  {
   "cell_type": "markdown",
   "metadata": {},
   "source": [
    "# Exercise 19\n",
    "\n",
    "Write a function that takes a list of integers and also a single integer as inputs. It should return true or false if the single integer value is present or not in the list."
   ]
  },
  {
   "cell_type": "code",
   "execution_count": null,
   "metadata": {},
   "outputs": [
    {
     "data": {
      "text/plain": [
       "'The number 1 is present in the list.'"
      ]
     },
     "execution_count": 12,
     "metadata": {},
     "output_type": "execute_result"
    }
   ],
   "source": [
    "# Old version DID NOT WORK\n",
    "random_list = [1, 4, 5, 2, 7, 8, 56, 45, 34, 23, 12, 67, 7345, 236, 457, 253]\n",
    "\n",
    "def true_false():\n",
    "    random_list = [1, 4, 5, 2, 7, 8, 56, 45, 34, 23, 12, 67, 7345, 236, 457, 253]\n",
    "    my_number = input()\n",
    "    if my_number in random_list:\n",
    "        return f'The number {my_number} is present in the list.'\n",
    "    return f'The number {my_number} is not in the list.'\n",
    "\n",
    "true_false(random_list, 5)\n",
    "\n"
   ]
  },
  {
   "cell_type": "code",
   "execution_count": 13,
   "metadata": {},
   "outputs": [
    {
     "data": {
      "text/plain": [
       "'The number 1 is present in the list.'"
      ]
     },
     "execution_count": 13,
     "metadata": {},
     "output_type": "execute_result"
    }
   ],
   "source": [
    "random_list = [1, 4, 5, 2, 7, 8, 56, 45, 34, 23, 12, 67, 7345, 236, 457, 253]\n",
    "my_number = input('Please enter your chosen number: ')\n",
    "\n",
    "def true_false(x, y):\n",
    "    # in order to work I had to put it as int(), because I realize that what I was inputing was a string although I was doing a number\n",
    "    if int(y) in x:\n",
    "        return f'The number {y} is present in the list.'\n",
    "    return f'The number {y} is not in the list.'\n",
    "\n",
    "true_false(random_list, my_number)\n",
    "\n"
   ]
  },
  {
   "cell_type": "code",
   "execution_count": 19,
   "metadata": {},
   "outputs": [
    {
     "data": {
      "text/plain": [
       "'The number 5 is present in the list.'"
      ]
     },
     "execution_count": 19,
     "metadata": {},
     "output_type": "execute_result"
    }
   ],
   "source": [
    "# New version\n",
    "\n",
    "\n",
    "def true_false(y, x):\n",
    "    # in order to work I had to put it as int(), because I realize that what I was inputing was a string although I was doing a number\n",
    "    if x in y:\n",
    "        return f'The number {x} is present in the list.'\n",
    "    return f'The number {x} is not in the list.'\n",
    "\n",
    "true_false([1, 2, 3, 4, 5], 5)\n",
    "\n"
   ]
  },
  {
   "cell_type": "code",
   "execution_count": null,
   "metadata": {},
   "outputs": [],
   "source": []
  }
 ],
 "metadata": {
  "kernelspec": {
   "display_name": "MarcosPython10",
   "language": "python",
   "name": "python3"
  },
  "language_info": {
   "codemirror_mode": {
    "name": "ipython",
    "version": 3
   },
   "file_extension": ".py",
   "mimetype": "text/x-python",
   "name": "python",
   "nbconvert_exporter": "python",
   "pygments_lexer": "ipython3",
   "version": "3.10.18"
  }
 },
 "nbformat": 4,
 "nbformat_minor": 2
}
