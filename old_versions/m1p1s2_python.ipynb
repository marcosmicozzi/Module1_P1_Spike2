{
 "cells": [
  {
   "cell_type": "code",
   "execution_count": 14,
   "metadata": {},
   "outputs": [
    {
     "name": "stdout",
     "output_type": "stream",
     "text": [
      "My name is Marcos.\n"
     ]
    }
   ],
   "source": [
    "my_name = 'Marcos'\n",
    "#This will print my name\n",
    "print('My name is ' + my_name + '.')"
   ]
  },
  {
   "cell_type": "code",
   "execution_count": 15,
   "metadata": {},
   "outputs": [
    {
     "name": "stdout",
     "output_type": "stream",
     "text": [
      "I am 32 years old.\n"
     ]
    }
   ],
   "source": [
    "age = 32\n",
    "#this will print my age\n",
    "print('I am ' + str(age) + ' years old.')"
   ]
  },
  {
   "cell_type": "code",
   "execution_count": 16,
   "metadata": {},
   "outputs": [
    {
     "name": "stdout",
     "output_type": "stream",
     "text": [
      "Julia is 32 years old.\n",
      "The age difference between Julia and myself is 0 , it seems like we are the same age.\n"
     ]
    }
   ],
   "source": [
    "julia_age = 32\n",
    "#This will print Julias age. \n",
    "print('Julia is ' + str(julia_age) + ' years old.')\n",
    "age_diff = age - julia_age\n",
    "print('The age difference between Julia and myself is ' + str(age_diff) + ' , it seems like we are the same age.')\n"
   ]
  },
  {
   "cell_type": "code",
   "execution_count": 21,
   "metadata": {},
   "outputs": [
    {
     "name": "stdout",
     "output_type": "stream",
     "text": [
      "You are older than 21 years old. You are free!\n",
      "Yes Julia! You are older than 21, welcome :)\n"
     ]
    }
   ],
   "source": [
    "# If statement that compares our age to the value of 21 and prints different outputs depending on the users age. \n",
    "if age > 21:\n",
    "    print('You are older than 21 years old. You are free!')\n",
    "elif age == 21:\n",
    "    print('You are 21 years old.')\n",
    "else:\n",
    "    print('You are not old enough, I am sorry.')\n",
    "\n",
    "if julia_age > 21:\n",
    "    print('Yes Julia! You are older than 21, welcome :)')\n",
    "elif julia_age == 21:\n",
    "    print('You are 21 years old.')\n",
    "else:\n",
    "    print('You are not old enough, I am sorry.')"
   ]
  },
  {
   "cell_type": "code",
   "execution_count": null,
   "metadata": {},
   "outputs": [
    {
     "name": "stdout",
     "output_type": "stream",
     "text": [
      "It seems like we are the same age! Were you born in 1993?\n"
     ]
    }
   ],
   "source": [
    "# If statement that compares our age to the age of Julia and prints different outputs depending on the users age. \n",
    "\n",
    "if age > julia_age:\n",
    "    print('It seems like I am older than you, Julia.')\n",
    "elif age == julia_age:\n",
    "    print('It seems like we are the same age! Were you born in 1993?')\n",
    "else:\n",
    "    print('Respect your elders Julia..')"
   ]
  },
  {
   "cell_type": "code",
   "execution_count": 31,
   "metadata": {},
   "outputs": [
    {
     "name": "stdout",
     "output_type": "stream",
     "text": [
      "['Bo', 'Bruno', 'Janinna', 'Kea', 'Marcos', 'Rahul', 'Vishnu']\n",
      "Vishnu\n",
      "Bo\n",
      "Bruno\n",
      "Janinna\n",
      "Kea\n",
      "Marcos\n",
      "Rahul\n",
      "Vishnu\n"
     ]
    }
   ],
   "source": [
    "names = ['Marcos', 'Bo', 'Bruno', 'Vishnu', 'Janinna', 'Kea', 'Rahul']\n",
    "names.sort()\n",
    "print(names)\n",
    "print(names[-1])\n",
    "for i in names:\n",
    "    print(i)\n"
   ]
  },
  {
   "cell_type": "markdown",
   "metadata": {},
   "source": [
    "# excercise 7"
   ]
  },
  {
   "cell_type": "code",
   "execution_count": 67,
   "metadata": {},
   "outputs": [
    {
     "name": "stdout",
     "output_type": "stream",
     "text": [
      "32\n",
      "19\n",
      "25\n",
      "28\n",
      "25\n",
      "32\n",
      "33\n",
      "-------\n",
      "32\n",
      "28\n",
      "32\n"
     ]
    }
   ],
   "source": [
    "# Excercise 7 \n",
    "# first try - output is infinite\n",
    "ages = [32, 19, 25, 28, 25, 32, 33]\n",
    "for i in ages:\n",
    "    print(i)\n",
    "\n",
    "print('-------')\n",
    "\n",
    "for i in ages:\n",
    "    if i % 2 == 0:\n",
    "        print(i)\n",
    "\n",
    "    "
   ]
  },
  {
   "cell_type": "code",
   "execution_count": null,
   "metadata": {},
   "outputs": [],
   "source": [
    "#second try - Output seems infinite again. \n",
    "ages = [32, 19, 25, 28, 25, 32, 33]\n",
    "for i in ages:\n",
    "    print(i)\n",
    "print(len(ages))\n",
    "count = 0\n",
    "while count < 8:\n",
    "    count =+ 1\n",
    "    print(ages[count + 1])"
   ]
  },
  {
   "cell_type": "code",
   "execution_count": null,
   "metadata": {},
   "outputs": [],
   "source": [
    "ages = [32, 19, 25, 28, 25, 32, 33]\n",
    "for i in ages:\n",
    "    print(i)\n",
    "print(len(ages))\n",
    "count = 0\n",
    "while ages[i] < 8:\n",
    "    count =+ 1\n",
    "    print(ages[i])"
   ]
  },
  {
   "cell_type": "code",
   "execution_count": null,
   "metadata": {},
   "outputs": [],
   "source": [
    "# I took out the count cause now I have ages[i] instead of count, and then I changed the value to > 8 rather than < 8. Still not working. \n",
    "ages = [32, 19, 25, 28, 25, 32, 33]\n",
    "for i in ages:\n",
    "    print(i)\n",
    "print(len(ages))\n",
    "\n",
    "for i in ages:\n",
    "    while ages[i] > 8:\n",
    "        print(ages[i])"
   ]
  },
  {
   "cell_type": "code",
   "execution_count": null,
   "metadata": {},
   "outputs": [],
   "source": [
    "# here I came back to the count concept, but I combined it with ages[i], still same \"list index out of range\"\n",
    "ages = [32, 19, 25, 28, 25, 32, 33]\n",
    "for i in ages:\n",
    "    print(i)\n",
    "print(len(ages))\n",
    "count = 0\n",
    "for i in ages:\n",
    "    count =+ 1\n",
    "    while count < len(ages):\n",
    "        print(ages[i])"
   ]
  },
  {
   "cell_type": "code",
   "execution_count": null,
   "metadata": {},
   "outputs": [],
   "source": [
    "# list index out of range. So somehow i is more than 7, but how?\n",
    "# But where are we actually using index in the code? ages[i] would be an index\n",
    "#  but how can it be out of range is the only way I using it is with \n",
    "ages = [32, 19, 25, 28, 25, 32, 33]\n",
    "for i in ages:\n",
    "    print(i)\n",
    "print(len(ages))\n",
    "count = 0\n",
    "for age in ages:\n",
    "    count =+ 1\n",
    "    while count < (len(ages) + 1):\n",
    "        print(ages[i])\n",
    "\n"
   ]
  },
  {
   "cell_type": "code",
   "execution_count": 69,
   "metadata": {},
   "outputs": [
    {
     "name": "stdout",
     "output_type": "stream",
     "text": [
      "32\n",
      "19\n",
      "25\n",
      "28\n",
      "25\n",
      "32\n",
      "33\n"
     ]
    }
   ],
   "source": [
    "ages = [32, 19, 25, 28, 25, 32, 33]\n",
    "\n",
    "\n",
    "for age in ages:\n",
    "    count = 0\n",
    "    while count < len(ages):\n",
    "        print(age)\n",
    "        count = count + 1\n",
    "        break\n",
    "\n",
    "\n",
    "\n"
   ]
  },
  {
   "cell_type": "code",
   "execution_count": 70,
   "metadata": {},
   "outputs": [
    {
     "name": "stdout",
     "output_type": "stream",
     "text": [
      "32\n",
      "28\n",
      "32\n"
     ]
    }
   ],
   "source": [
    "for age in ages:\n",
    "    count = 0\n",
    "    while count < len(ages):\n",
    "        if age % 2 == 0:\n",
    "            print(age)\n",
    "        count = count + 1\n",
    "        break"
   ]
  },
  {
   "cell_type": "markdown",
   "metadata": {},
   "source": [
    "# Excercise 8 and 9\n",
    "### Write a list containing numbers and print the lowest number.\n",
    "\n"
   ]
  },
  {
   "cell_type": "code",
   "execution_count": 73,
   "metadata": {},
   "outputs": [
    {
     "name": "stdout",
     "output_type": "stream",
     "text": [
      "1\n"
     ]
    }
   ],
   "source": [
    "numbers = [1, 2, 3, 4, 5, 6]\n",
    "print(min(numbers))"
   ]
  },
  {
   "cell_type": "code",
   "execution_count": 74,
   "metadata": {},
   "outputs": [
    {
     "name": "stdout",
     "output_type": "stream",
     "text": [
      "6\n"
     ]
    }
   ],
   "source": [
    "numbers = [1, 2, 3, 4, 5, 6]\n",
    "print(max(numbers))"
   ]
  },
  {
   "cell_type": "code",
   "execution_count": 75,
   "metadata": {},
   "outputs": [],
   "source": [
    "# or"
   ]
  },
  {
   "cell_type": "code",
   "execution_count": 79,
   "metadata": {},
   "outputs": [
    {
     "name": "stdout",
     "output_type": "stream",
     "text": [
      "1\n"
     ]
    }
   ],
   "source": [
    "numbers = [1, 3, 2, 4, 9, 6]\n",
    "numbers.sort()\n",
    "print(numbers[0])"
   ]
  },
  {
   "cell_type": "code",
   "execution_count": 80,
   "metadata": {},
   "outputs": [
    {
     "name": "stdout",
     "output_type": "stream",
     "text": [
      "9\n"
     ]
    }
   ],
   "source": [
    "numbers = [1, 3, 2, 4, 9, 6]\n",
    "numbers.sort()\n",
    "print(numbers[len(numbers) - 1])"
   ]
  },
  {
   "cell_type": "markdown",
   "metadata": {},
   "source": [
    "# Exercise 10\n",
    "### Given below is a list of 10 customers with year of birth, however, the list can be as large as several thousands of customers.\n",
    "\n",
    "### [1999, 1995, 2005, 2010, 2007, 2006, 1994, 1996, 1979, 2008]\n"
   ]
  },
  {
   "cell_type": "code",
   "execution_count": 84,
   "metadata": {},
   "outputs": [
    {
     "name": "stdout",
     "output_type": "stream",
     "text": [
      "1999 1995 2005 2010 2007 2006 1994 1996 1979 2008 "
     ]
    }
   ],
   "source": [
    "customers_year_birth = [1999, 1995, 2005, 2010, 2007, 2006, 1994, 1996, 1979, 2008]\n",
    "\n",
    "for year in customers_year_birth:\n",
    "    print(year, end = \" \")"
   ]
  },
  {
   "cell_type": "markdown",
   "metadata": {},
   "source": [
    "# Exercise 11\n",
    "### Given below is a list of 10 customers with name and year of birth, however, the list can be as large as several thousands of customers.\n",
    "\n",
    "### Use a loop to iterate over the list and print the name and age of each customer."
   ]
  },
  {
   "cell_type": "code",
   "execution_count": 89,
   "metadata": {},
   "outputs": [
    {
     "name": "stdout",
     "output_type": "stream",
     "text": [
      "{'name': 'Bob', 'age': 1999}\n",
      "{'name': 'Jack', 'age': 1995}\n",
      "{'name': 'Lisa', 'age': 2005}\n",
      "{'name': 'Maria', 'age': 2010}\n",
      "{'name': 'Ben', 'age': 2007}\n",
      "{'name': 'Emma', 'age': 2006}\n",
      "{'name': 'Oscar', 'age': 1994}\n",
      "{'name': 'Amy', 'age': 1996}\n",
      "{'name': 'Paul', 'age': 1979}\n",
      "{'name': 'Etta', 'age': 2008}\n"
     ]
    }
   ],
   "source": [
    "customer_list = [\n",
    "                    {\"name\": \"Bob\", \"age\": 1999},\n",
    "                    {\"name\": \"Jack\", \"age\": 1995},\n",
    "                    {\"name\": \"Lisa\", \"age\": 2005},\n",
    "                    {\"name\": \"Maria\", \"age\": 2010},\n",
    "                    {\"name\": \"Ben\", \"age\": 2007},\n",
    "                    {\"name\": \"Emma\", \"age\": 2006},\n",
    "                    {\"name\": \"Oscar\", \"age\": 1994},\n",
    "                    {\"name\": \"Amy\", \"age\": 1996},\n",
    "                    {\"name\": \"Paul\", \"age\": 1979},\n",
    "                    {\"name\": \"Etta\", \"age\": 2008}\n",
    "                ]\n",
    "\n",
    "for i in customer_list:\n",
    "    print(i)\n"
   ]
  },
  {
   "cell_type": "markdown",
   "metadata": {},
   "source": [
    "### Afterwards, for each customer try to print the sentence \"customer_name is customer_age years old\".\n",
    "### customer_name and customer_age should correspond to each customer's name and age."
   ]
  },
  {
   "cell_type": "code",
   "execution_count": null,
   "metadata": {},
   "outputs": [
    {
     "name": "stdout",
     "output_type": "stream",
     "text": [
      "['Bob', 1999, 'Jack', 1995, 'Lisa', 2005, 'Maria', 2010, 'Ben', 2007, 'Emma', 2006, 'Oscar', 1994, 'Amy', 1996, 'Paul', 1979, 'Etta', 2008]\n"
     ]
    }
   ],
   "source": [
    "#This does not work\n",
    "#for i in customer_list:\n",
    "    #for a in i.values:\n",
    "        #print(a)\n",
    "\n",
    "customer_list = [\n",
    "                    {\"name\": \"Bob\", \"age\": 1999},\n",
    "                    {\"name\": \"Jack\", \"age\": 1995},\n",
    "                    {\"name\": \"Lisa\", \"age\": 2005},\n",
    "                    {\"name\": \"Maria\", \"age\": 2010},\n",
    "                    {\"name\": \"Ben\", \"age\": 2007},\n",
    "                    {\"name\": \"Emma\", \"age\": 2006},\n",
    "                    {\"name\": \"Oscar\", \"age\": 1994},\n",
    "                    {\"name\": \"Amy\", \"age\": 1996},\n",
    "                    {\"name\": \"Paul\", \"age\": 1979},\n",
    "                    {\"name\": \"Etta\", \"age\": 2008}\n",
    "                ]\n",
    "\n",
    "for i in customer_list:\n",
    "    print(i)\n",
    "\n",
    "\n",
    "all_values = []\n",
    "names = []\n",
    "years = []\n",
    "for i in customer_list:\n",
    "    for value in i.values():\n",
    "        all_values.append(value)\n",
    "\n",
    "\n",
    "print(all_values)\n",
    "\n",
    "\n"
   ]
  },
  {
   "cell_type": "code",
   "execution_count": 120,
   "metadata": {},
   "outputs": [
    {
     "name": "stdout",
     "output_type": "stream",
     "text": [
      "['Bob', 1999, 'Jack', 1995, 'Lisa', 2005, 'Maria', 2010, 'Ben', 2007, 'Emma', 2006, 'Oscar', 1994, 'Amy', 1996, 'Paul', 1979, 'Etta', 2008]\n",
      "['Bob', 'Jack', 'Lisa', 'Maria', 'Ben', 'Emma', 'Oscar', 'Amy', 'Paul', 'Etta']\n",
      "[1999, 1995, 2005, 2010, 2007, 2006, 1994, 1996, 1979, 2008]\n"
     ]
    }
   ],
   "source": [
    "all_values = []\n",
    "names = []\n",
    "years = []\n",
    "for i in customer_list:\n",
    "    for value in i.values():\n",
    "        all_values.append(value)\n",
    "\n",
    "print(all_values)\n",
    "\n",
    "for x in all_values:\n",
    "    if type(x) == str:\n",
    "        names.append(x)\n",
    "    else:\n",
    "        years.append(x)\n",
    "\n",
    "print(names)\n",
    "print(years)"
   ]
  },
  {
   "cell_type": "code",
   "execution_count": null,
   "metadata": {},
   "outputs": [
    {
     "name": "stdout",
     "output_type": "stream",
     "text": [
      "['Bob', 1999, 'Jack', 1995, 'Lisa', 2005, 'Maria', 2010, 'Ben', 2007, 'Emma', 2006, 'Oscar', 1994, 'Amy', 1996, 'Paul', 1979, 'Etta', 2008]\n",
      "['Bob', 'Jack', 'Lisa', 'Maria', 'Ben', 'Emma', 'Oscar', 'Amy', 'Paul', 'Etta']\n",
      "[1999, 1995, 2005, 2010, 2007, 2006, 1994, 1996, 1979, 2008]\n",
      "10\n",
      "10\n",
      "Bob is 26 years old.\n",
      "Jack is 30 years old.\n",
      "Lisa is 20 years old.\n",
      "Maria is 15 years old.\n",
      "Ben is 18 years old.\n",
      "Emma is 19 years old.\n",
      "Oscar is 31 years old.\n",
      "Amy is 29 years old.\n",
      "Paul is 46 years old.\n",
      "Etta is 17 years old.\n"
     ]
    }
   ],
   "source": [
    "all_values = []\n",
    "names = []\n",
    "years = []\n",
    "for i in customer_list:\n",
    "    for value in i.values():\n",
    "        all_values.append(value)\n",
    "\n",
    "print(all_values)\n",
    "\n",
    "for x in all_values:\n",
    "    if type(x) == str:\n",
    "        names.append(x)\n",
    "    else:\n",
    "        years.append(x)\n",
    "\n",
    "print(names)\n",
    "print(years)\n",
    "\n",
    "print(len(names))\n",
    "print(len(years))\n",
    "\n",
    "for i in range(len(names)):\n",
    "    print(f'{names[i]} is {2025 - years[i]} years old.')"
   ]
  },
  {
   "cell_type": "markdown",
   "metadata": {},
   "source": [
    "# Excercise 12\n",
    "\n",
    "Given a list of ages, remove the youngest and the oldest person.\n",
    "\n",
    "ages = [20, 24, 14, 9, 12, 13, 25, 23, 40, 11]\n",
    "For this exercise try not to use the max() and min() methods."
   ]
  },
  {
   "cell_type": "code",
   "execution_count": 132,
   "metadata": {},
   "outputs": [
    {
     "name": "stdout",
     "output_type": "stream",
     "text": [
      "[9, 11, 12, 13, 14, 20, 23, 24, 25, 40]\n",
      "------\n",
      "[9, 11, 12, 13, 14, 20, 23, 24, 25]\n",
      "------\n",
      "[11, 12, 13, 14, 20, 23, 24, 25]\n"
     ]
    }
   ],
   "source": [
    "ages = [20, 24, 14, 9, 12, 13, 25, 23, 40, 11]\n",
    "ages.sort()\n",
    "print(ages)\n",
    "print('------')\n",
    "ages.pop()\n",
    "print(ages)\n",
    "print('------')\n",
    "ages.remove(ages[0])\n",
    "print(ages)"
   ]
  },
  {
   "cell_type": "markdown",
   "metadata": {},
   "source": [
    "# Excercise 13\n",
    "\n",
    "\n",
    "You have two lists with ages of customers from different cities.\n",
    "\n",
    "berlin = [15, 13, 16, 18, 19, 10, 12 ]\n",
    "\n",
    "munich = [7, 13, 15, 20, 19, 18, 10, 16]\n",
    "\n",
    "The task is to create a new list with the common ages."
   ]
  },
  {
   "cell_type": "code",
   "execution_count": 139,
   "metadata": {},
   "outputs": [
    {
     "name": "stdout",
     "output_type": "stream",
     "text": [
      "[15, 13, 16, 18, 19, 10]\n"
     ]
    }
   ],
   "source": [
    "berlin = [15, 13, 16, 18, 19, 10, 12 ]\n",
    "munich = [7, 13, 15, 20, 19, 18, 10, 16]\n",
    "\n",
    "common_ages = []\n",
    "for age in berlin:\n",
    "    if age in munich:\n",
    "        common_ages.append(age)\n",
    "\n",
    "print(common_ages)\n"
   ]
  },
  {
   "cell_type": "markdown",
   "metadata": {},
   "source": [
    "# Exercise 14\n",
    "\n",
    "You have a list with ages.\n",
    "\n",
    "[15, 13, 16, 18, 19, 15, 10]\n",
    "\n",
    "Remove the duplicates."
   ]
  },
  {
   "cell_type": "code",
   "execution_count": null,
   "metadata": {},
   "outputs": [
    {
     "name": "stdout",
     "output_type": "stream",
     "text": [
      "[10, 13, 15, 15, 16, 18, 19]\n",
      "[10, 13, 15, 16, 18, 19]\n"
     ]
    }
   ],
   "source": [
    "ages_new = [15, 13, 16, 18, 19, 15, 10]\n",
    "\n",
    "ages_new.sort()\n",
    "print(ages_new)\n",
    "\n",
    "# here, we are creating a dictionary and back to a list in one go\n",
    "ages_new = list(dict.fromkeys(ages_new))\n",
    "print(ages_new)\n"
   ]
  },
  {
   "cell_type": "markdown",
   "metadata": {},
   "source": [
    "# Exercise 15\n",
    "\n",
    "Write a function that takes a person's name and prints a custom message for them.\n",
    "\n",
    "\n",
    "E.g. Function name: welcome\n",
    "\n",
    "\n",
    "welcome('Evelyn') would print- 'Welcome Evelyn, have a nice day!'\n",
    "\n",
    "\n",
    "welcome('Jost'), would print - 'Welcome Jost, have a nice day!'"
   ]
  },
  {
   "cell_type": "code",
   "execution_count": 148,
   "metadata": {},
   "outputs": [
    {
     "name": "stdout",
     "output_type": "stream",
     "text": [
      "Welcome Marcos\n",
      "Welcome Analog studio\n"
     ]
    }
   ],
   "source": [
    "def welcome(your_name):\n",
    "    print(f'Welcome {your_name}')\n",
    "\n",
    "\n",
    "welcome('Marcos')\n",
    "welcome('Analog studio')\n"
   ]
  },
  {
   "cell_type": "markdown",
   "metadata": {},
   "source": [
    "# Exercise 16\n",
    "\n",
    "Write a function that takes a string as input and calculates the length.\n",
    "\n",
    "\n",
    "Function name: get_length\n",
    "\n",
    "\n",
    "get_length('Hello') would print / return 5.\n",
    "\n",
    "\n",
    "get_length('Hi') would print / return 2."
   ]
  },
  {
   "cell_type": "code",
   "execution_count": 150,
   "metadata": {},
   "outputs": [
    {
     "name": "stdout",
     "output_type": "stream",
     "text": [
      "23\n"
     ]
    }
   ],
   "source": [
    "def get_length(words):\n",
    "    print(len(words))\n",
    "\n",
    "get_length('I was once 15 years old')"
   ]
  },
  {
   "cell_type": "markdown",
   "metadata": {},
   "source": [
    "# Exercise 17\n",
    "\n",
    "Write a function which checks whether a number is even.\n",
    "\n",
    "\n",
    "Function name: check_even\n",
    "\n",
    "\n",
    "check_even(6) would print / return 'Yes'\n",
    "\n",
    "\n",
    "check_even(5) would print / return 'No'"
   ]
  },
  {
   "cell_type": "code",
   "execution_count": 155,
   "metadata": {},
   "outputs": [
    {
     "name": "stdout",
     "output_type": "stream",
     "text": [
      "Yes, your number is even, you chose 6.\n",
      "No, your number is not even and you should know that, you chose 9.\n"
     ]
    }
   ],
   "source": [
    "def check_even(your_number):\n",
    "    if your_number % 2 ==0:\n",
    "        print(f'Yes, your number is even, you chose {your_number}.')\n",
    "    else:\n",
    "        print(f'No, your number is not even and you should know that, you chose {your_number}.')\n",
    "\n",
    "check_even(6)\n",
    "check_even(9)"
   ]
  },
  {
   "cell_type": "markdown",
   "metadata": {},
   "source": [
    "# Exercise 18\n",
    "\n",
    "Rewrite exercises 11, 12, 13, and 14 in a function."
   ]
  },
  {
   "cell_type": "markdown",
   "metadata": {},
   "source": [
    "Excercise 11"
   ]
  },
  {
   "cell_type": "code",
   "execution_count": 162,
   "metadata": {},
   "outputs": [
    {
     "name": "stdout",
     "output_type": "stream",
     "text": [
      "Bob is 26 years old.\n",
      "Jack is 30 years old.\n",
      "Lisa is 20 years old.\n",
      "Maria is 15 years old.\n",
      "Ben is 18 years old.\n",
      "Emma is 19 years old.\n",
      "Oscar is 31 years old.\n",
      "Amy is 29 years old.\n",
      "Paul is 46 years old.\n",
      "Etta is 17 years old.\n"
     ]
    }
   ],
   "source": [
    "\n",
    "# The trick here is that we need to replace the name of the customer_list in our code by the your_list_new\n",
    "# so that any value we add there it will make sense with the code.\n",
    "customer_list = [\n",
    "                    {\"name\": \"Bob\", \"age\": 1999},\n",
    "                    {\"name\": \"Jack\", \"age\": 1995},\n",
    "                    {\"name\": \"Lisa\", \"age\": 2005},\n",
    "                    {\"name\": \"Maria\", \"age\": 2010},\n",
    "                    {\"name\": \"Ben\", \"age\": 2007},\n",
    "                    {\"name\": \"Emma\", \"age\": 2006},\n",
    "                    {\"name\": \"Oscar\", \"age\": 1994},\n",
    "                    {\"name\": \"Amy\", \"age\": 1996},\n",
    "                    {\"name\": \"Paul\", \"age\": 1979},\n",
    "                    {\"name\": \"Etta\", \"age\": 2008}\n",
    "                ]\n",
    "\n",
    "def changing_file_types(your_list_new):\n",
    "    \n",
    "    # here I create a new list with all values\n",
    "    all_values = []\n",
    "    names = []\n",
    "    years = []\n",
    "    for i in your_list_new:\n",
    "        for value in i.values():\n",
    "            all_values.append(value)\n",
    "\n",
    "    # here I divide between str and int and create two new lists where I append the results. \n",
    "    for x in all_values:\n",
    "        if type(x) == str:\n",
    "            names.append(x)\n",
    "        else:\n",
    "            years.append(x)\n",
    "\n",
    "    # here I print the final message\n",
    "    for i in range(len(names)):\n",
    "        print(f'{names[i]} is {2025 - years[i]} years old.')\n",
    "\n",
    "changing_file_types(customer_list)"
   ]
  },
  {
   "cell_type": "markdown",
   "metadata": {},
   "source": [
    "Excercise 12\n",
    "\n",
    "\n",
    "Given a list of ages, remove the youngest and the oldest person.\n",
    "\n",
    "ages = [20, 24, 14, 9, 12, 13, 25, 23, 40, 11]\n",
    "For this exercise try not to use the max() and min() methods."
   ]
  },
  {
   "cell_type": "code",
   "execution_count": 163,
   "metadata": {},
   "outputs": [
    {
     "name": "stdout",
     "output_type": "stream",
     "text": [
      "[9, 11, 12, 13, 14, 20, 23, 24, 25, 40]\n",
      "------\n",
      "[9, 11, 12, 13, 14, 20, 23, 24, 25]\n",
      "------\n",
      "[11, 12, 13, 14, 20, 23, 24, 25]\n"
     ]
    }
   ],
   "source": [
    "ages = [20, 24, 14, 9, 12, 13, 25, 23, 40, 11]\n",
    "\n",
    "def remove_extremes(your_ages):\n",
    "    your_ages.sort()\n",
    "    print(your_ages)\n",
    "    print('------')\n",
    "    your_ages.pop()\n",
    "    print(your_ages)\n",
    "    print('------')\n",
    "    your_ages.remove(your_ages[0])\n",
    "    print(your_ages)\n",
    "\n",
    "remove_extremes(ages)"
   ]
  },
  {
   "cell_type": "markdown",
   "metadata": {},
   "source": [
    "Excercise 13\n",
    "\n",
    "You have two lists with ages of customers from different cities.\n",
    "\n",
    "berlin = [15, 13, 16, 18, 19, 10, 12 ]\n",
    "\n",
    "munich = [7, 13, 15, 20, 19, 18, 10, 16]\n",
    "\n",
    "The task is to create a new list with the common ages."
   ]
  },
  {
   "cell_type": "code",
   "execution_count": 165,
   "metadata": {},
   "outputs": [
    {
     "name": "stdout",
     "output_type": "stream",
     "text": [
      "[15, 13, 16, 18, 19, 10]\n"
     ]
    }
   ],
   "source": [
    "berlin = [15, 13, 16, 18, 19, 10, 12 ]\n",
    "munich = [7, 13, 15, 20, 19, 18, 10, 16]\n",
    "\n",
    "def new_with_common(your_list_a, your_list_b):\n",
    "    common_ages = []\n",
    "    for age in your_list_a:\n",
    "        if age in your_list_b:\n",
    "            common_ages.append(age)\n",
    "\n",
    "    print(common_ages)\n",
    "\n",
    "new_with_common(berlin, munich)\n"
   ]
  },
  {
   "cell_type": "markdown",
   "metadata": {},
   "source": [
    "# Exercise 19\n",
    "\n",
    "Write a function that takes a list of integers and also a single integer as inputs. It should return true or false if the single integer value is present or not in the list."
   ]
  },
  {
   "cell_type": "code",
   "execution_count": 166,
   "metadata": {},
   "outputs": [
    {
     "name": "stdout",
     "output_type": "stream",
     "text": [
      "The number 4 is not in the list.\n"
     ]
    }
   ],
   "source": [
    "random_list = [1, 4, 5, 2, 7, 8, 56, 45, 34, 23, 12, 67, 7345, 236, 457, 253]\n",
    "\n",
    "my_number = input()\n",
    "\n",
    "def true_false(the_number_i_chose):\n",
    "    random_list = [1, 4, 5, 2, 7, 8, 56, 45, 34, 23, 12, 67, 7345, 236, 457, 253]\n",
    "    if the_number_i_chose in random_list:\n",
    "        print(f'The number {the_number_i_chose} is present in the list.')\n",
    "    else:\n",
    "        print(f'The number {the_number_i_chose} is not in the list.')\n",
    "\n",
    "true_false(my_number)"
   ]
  },
  {
   "cell_type": "code",
   "execution_count": null,
   "metadata": {},
   "outputs": [],
   "source": []
  }
 ],
 "metadata": {
  "kernelspec": {
   "display_name": "MarcosPython10",
   "language": "python",
   "name": "python3"
  },
  "language_info": {
   "codemirror_mode": {
    "name": "ipython",
    "version": 3
   },
   "file_extension": ".py",
   "mimetype": "text/x-python",
   "name": "python",
   "nbconvert_exporter": "python",
   "pygments_lexer": "ipython3",
   "version": "3.10.18"
  }
 },
 "nbformat": 4,
 "nbformat_minor": 2
}
