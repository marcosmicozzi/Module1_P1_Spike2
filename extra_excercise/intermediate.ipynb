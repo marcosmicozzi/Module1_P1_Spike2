{
 "cells": [
  {
   "cell_type": "markdown",
   "metadata": {},
   "source": [
    "# 1.\n",
    "You are given an array (which will have a length of at least 3, but could be very\n",
    "large) containing integers. The array is either entirely comprised of odd integers or\n",
    "entirely comprised of even integers except for a single integer N.\n",
    "\n",
    "Write a method that takes the array as an argument and returns this “outlier” N.\n",
    "\n",
    "Sample test cases:\n",
    "[2, 4, 0, 100, 4, 11, 2602, 36]\n",
    "Should return: 11 (the only odd number)\n",
    "\n",
    "[160, 3, 1719, 19, 11, 13, -21]\n",
    "Should return: 160 (the only even number)\n",
    "\n",
    "find_outlier([2, 4, 6, 8, 10, 3])\n",
    "Should return: 3"
   ]
  },
  {
   "cell_type": "code",
   "execution_count": 1,
   "metadata": {},
   "outputs": [
    {
     "data": {
      "text/plain": [
       "[11]"
      ]
     },
     "execution_count": 1,
     "metadata": {},
     "output_type": "execute_result"
    }
   ],
   "source": [
    "sample_test = [2, 4, 0, 100, 4, 11, 2602, 36]\n",
    "\n",
    "def outliers(sample_list):\n",
    "    test_list_a = []\n",
    "    test_list_b = []\n",
    "    for i in sample_list:\n",
    "        if i % 2 == 0:\n",
    "            test_list_a.append(i)\n",
    "        else:\n",
    "            test_list_b.append(i)\n",
    "    if len(test_list_a) > 1:\n",
    "        return test_list_b\n",
    "    return test_list_a\n",
    "\n",
    "outliers(sample_test)\n"
   ]
  },
  {
   "cell_type": "markdown",
   "metadata": {},
   "source": [
    "# 2. \n",
    "Your goal in this task is to implement a difference function, which subtracts one\n",
    "list from another and returns the result.\n",
    "\n",
    "It should remove all values from list a, which are present in list b.\n",
    "\n",
    "Lets call the function array_diff ( a , b )\n",
    "\n",
    "29/09/21, 13:08 Python Workshops – Data Science with Python\n",
    "\n",
    "https://dsft.code-data-ai.com/python-workshops/ 7/24\n",
    "Sample test cases:\n",
    "array_diff([1,2],[1]) will return [2]\n",
    "array_diff([1,2,2], [2]) will return [1]"
   ]
  },
  {
   "cell_type": "code",
   "execution_count": 2,
   "metadata": {},
   "outputs": [
    {
     "data": {
      "text/plain": [
       "[5, 9]"
      ]
     },
     "execution_count": 2,
     "metadata": {},
     "output_type": "execute_result"
    }
   ],
   "source": [
    "list_a = [1,2]\n",
    "list_b = [1]\n",
    "\n",
    "def array_diff(a, b):\n",
    "    final_list = []\n",
    "    for i in a:\n",
    "        if i not in b:\n",
    "            final_list.append(i)\n",
    "    return final_list\n",
    "\n",
    "array_diff([1, 3, 4, 5, 9], [1, 2, 3, 4])\n",
    "\n"
   ]
  },
  {
   "cell_type": "markdown",
   "metadata": {},
   "source": [
    "# 3. \n",
    "Given: an array containing hashes of names\n",
    "\n",
    "Return: a string formatted as a list of names separated by commas except for the last\n",
    "\n",
    "two names, which should be separated by an ampersand.\n",
    "\n",
    "\n",
    "Example:\n",
    "\n",
    "\n",
    "namelist([ {‘name’: ‘Bart’}, {‘name’: ‘Lisa’}, {‘name’: ‘Maggie’} ])\n",
    "\n",
    "returns ‘Bart, Lisa & Maggie‘\n",
    "\n",
    "\n",
    "namelist([ {‘name’: ‘Bart’}, {‘name’: ‘Lisa’} ])\n",
    "\n",
    "returns ‘Bart & Lisa‘\n",
    "\n",
    "\n",
    "namelist([ {‘name’: ‘Bart’} ])\n",
    "\n",
    "returns ‘Bart‘\n",
    "\n",
    "\n",
    "namelist([])\n",
    "\n",
    "returns ”\n"
   ]
  },
  {
   "cell_type": "code",
   "execution_count": null,
   "metadata": {},
   "outputs": [
    {
     "ename": "SyntaxError",
     "evalue": "invalid character '‘' (U+2018) (1834393228.py, line 1)",
     "output_type": "error",
     "traceback": [
      "\u001b[0;36m  Cell \u001b[0;32mIn[3], line 1\u001b[0;36m\u001b[0m\n\u001b[0;31m    namelist = {‘name’: ‘Bart’}, {‘name’: ‘Lisa’}, {‘name’: ‘Maggie’}\u001b[0m\n\u001b[0m                ^\u001b[0m\n\u001b[0;31mSyntaxError\u001b[0m\u001b[0;31m:\u001b[0m invalid character '‘' (U+2018)\n"
     ]
    }
   ],
   "source": [
    "namelist([[‘name’: ‘Bart’}, {‘name’: ‘Lisa’}, {‘name’: ‘Maggie’}])"
   ]
  },
  {
   "cell_type": "code",
   "execution_count": null,
   "metadata": {},
   "outputs": [],
   "source": []
  }
 ],
 "metadata": {
  "kernelspec": {
   "display_name": "MarcosPython10",
   "language": "python",
   "name": "python3"
  },
  "language_info": {
   "codemirror_mode": {
    "name": "ipython",
    "version": 3
   },
   "file_extension": ".py",
   "mimetype": "text/x-python",
   "name": "python",
   "nbconvert_exporter": "python",
   "pygments_lexer": "ipython3",
   "version": "3.10.18"
  }
 },
 "nbformat": 4,
 "nbformat_minor": 2
}
