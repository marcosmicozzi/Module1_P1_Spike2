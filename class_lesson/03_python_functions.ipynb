{
 "cells": [
  {
   "cell_type": "markdown",
   "metadata": {},
   "source": [
    "Some built-in functions you might have used already...\n",
    "- len() – Get number of elements (like rows in a dataset).\n",
    "- max() / min() / sum() – Basic descriptive statistics.\n",
    "- sorted()  – Sort data.\n",
    "- list() / tuple() / dict() / set() – Creating core data structures.\n",
    "- range() – Creating sequences, often for loops or simulations.\n",
    "- input() / print() – User interaction and output.\n"
   ]
  },
  {
   "cell_type": "markdown",
   "metadata": {},
   "source": [
    "# Custom Functions"
   ]
  },
  {
   "cell_type": "markdown",
   "metadata": {},
   "source": [
    "## Syntax / Parameters & Arguments\n",
    "A **parameter** is the variable we write into the function(). An **argument** is the actual value we enter into the function when calling it."
   ]
  },
  {
   "cell_type": "code",
   "execution_count": null,
   "metadata": {},
   "outputs": [],
   "source": [
    "# Function Syntax / in this case there are no parameters, the () are empty\n",
    "\n",
    "def example_function():\n",
    "    \"\"\"\n",
    "    this is docstring explaining the function,\n",
    "    what it needs and some examples for the others\n",
    "    \"\"\"\n",
    "    print(\"I am an example function.\")\n",
    "    print(\"I am not an example function.\")\n",
    "    \n",
    "\n",
    "\n",
    "\n",
    "\n"
   ]
  },
  {
   "cell_type": "code",
   "execution_count": 12,
   "metadata": {},
   "outputs": [
    {
     "name": "stdout",
     "output_type": "stream",
     "text": [
      "I am an example function.\n",
      "I am not an example function.\n"
     ]
    }
   ],
   "source": [
    "\n",
    "example_function() # calling the function"
   ]
  },
  {
   "cell_type": "code",
   "execution_count": 16,
   "metadata": {},
   "outputs": [
    {
     "name": "stdout",
     "output_type": "stream",
     "text": [
      "Muayad , I hope you have a fun day!\n"
     ]
    }
   ],
   "source": [
    "#+ Function Syntax / in this case there is one parameter inside the parethesis: (name)\n",
    "\n",
    "def example_fun(name):\n",
    "    \"\"\"\n",
    "    this is docstring explaining the function,\n",
    "    what it needs and some examples for the others\n",
    "    \"\"\"\n",
    "    print(name, \", I hope you have a fun day!\")\n",
    "    \n",
    "example_fun(\"Muayad\")\n",
    "    "
   ]
  },
  {
   "cell_type": "code",
   "execution_count": 57,
   "metadata": {},
   "outputs": [
    {
     "name": "stdout",
     "output_type": "stream",
     "text": [
      "Welcome to the universe, Bruno!\n"
     ]
    }
   ],
   "source": [
    "# welcome a person in the parallel universe\n",
    "\n",
    "def universe_greeting(name):\n",
    "    print(f\"Welcome to the universe, {name}!\")\n",
    "    \n",
    "\n",
    "universe_greeting(\"Bruno\")"
   ]
  },
  {
   "cell_type": "code",
   "execution_count": null,
   "metadata": {},
   "outputs": [
    {
     "name": "stdout",
     "output_type": "stream",
     "text": [
      "Welcome to the universe, Bishnu!\n"
     ]
    }
   ],
   "source": [
    "# Always greetinf Bishnu\n",
    "\n",
    "def universe_greeting():\n",
    "    print(f\"Welcome to the universe, Bishnu!\")\n",
    "    \n",
    "\n",
    "universe_greeting()"
   ]
  },
  {
   "cell_type": "markdown",
   "metadata": {},
   "source": [
    "## print() vs. return"
   ]
  },
  {
   "cell_type": "markdown",
   "metadata": {},
   "source": [
    "There are two types of functions: \n",
    "- functions that **perform a task** / those are functions that end on a **print()** function to show a result in the terminal without storing it\n",
    "- functions that **return a value** / those are functions that end on **return** / they can store the value in a variable"
   ]
  },
  {
   "cell_type": "code",
   "execution_count": 20,
   "metadata": {},
   "outputs": [
    {
     "name": "stdout",
     "output_type": "stream",
     "text": [
      "9\n"
     ]
    }
   ],
   "source": [
    "# A function that PRINTS a calculates and returns the square of a number\n",
    "\n",
    "def square_p(num):\n",
    "    print(num**2)\n",
    "    \n",
    "\n",
    "\n",
    "square_p(3)\n",
    "    \n"
   ]
  },
  {
   "cell_type": "code",
   "execution_count": 21,
   "metadata": {},
   "outputs": [
    {
     "data": {
      "text/plain": [
       "9"
      ]
     },
     "execution_count": 21,
     "metadata": {},
     "output_type": "execute_result"
    }
   ],
   "source": [
    "# A function that RETURNS a calculates and returns the square of a number\n",
    "\n",
    "def square_r(num):\n",
    "    return num**2\n",
    "    \n",
    "\n",
    "\n",
    "square_r(3)"
   ]
  },
  {
   "cell_type": "code",
   "execution_count": 24,
   "metadata": {},
   "outputs": [
    {
     "name": "stdout",
     "output_type": "stream",
     "text": [
      "9\n"
     ]
    }
   ],
   "source": [
    "#print(square_p(3))\n",
    "print(square_r(3))"
   ]
  },
  {
   "cell_type": "code",
   "execution_count": 25,
   "metadata": {},
   "outputs": [
    {
     "data": {
      "text/plain": [
       "39"
      ]
     },
     "execution_count": 25,
     "metadata": {},
     "output_type": "execute_result"
    }
   ],
   "source": [
    "# A function taking two arguments to add them\n",
    "\n",
    "def add_num(num1, num2):\n",
    "    return num1 + num2\n",
    "\n",
    "\n",
    "add_num(34, 5)"
   ]
  },
  {
   "cell_type": "markdown",
   "metadata": {},
   "source": [
    "## Types of Arguments\n",
    "\n",
    "There are two types of arguments: \n",
    "- **required arguments** / def greet(**fname**, lname=\"Cool\")\n",
    "- **keyword arguments** (also called default argument) / def greet(fname, **lname=\"Cool\"**)\n",
    "\n",
    "Keyword arguments and required arguments can be mixed. Keyword argument must come last.\n",
    "When calling a function, the keyword argument must be specified by its name. The required argument is already defined by its position. \n"
   ]
  },
  {
   "cell_type": "code",
   "execution_count": 27,
   "metadata": {},
   "outputs": [
    {
     "data": {
      "text/plain": [
       "'Hello friend!'"
      ]
     },
     "execution_count": 27,
     "metadata": {},
     "output_type": "execute_result"
    }
   ],
   "source": [
    "# greeting function with optional argument, otherwise \"Hello, friend!\"\n",
    "\n",
    "def greet(name=\"friend\"):\n",
    "    return f\"Hello {name}!\"\n",
    "\n",
    "greet()"
   ]
  },
  {
   "cell_type": "code",
   "execution_count": 36,
   "metadata": {},
   "outputs": [
    {
     "data": {
      "text/plain": [
       "'Hello Rahul Müller!'"
      ]
     },
     "execution_count": 36,
     "metadata": {},
     "output_type": "execute_result"
    }
   ],
   "source": [
    "# function with required first name and keyword last name\n",
    "\n",
    "def greet(fname, lname=\"Müller\"):\n",
    "    return f\"Hello {fname} {lname}!\"\n",
    "\n",
    "greet(\"Rahul\")\n"
   ]
  },
  {
   "cell_type": "markdown",
   "metadata": {},
   "source": [
    "## Functions with Logic"
   ]
  },
  {
   "cell_type": "code",
   "execution_count": null,
   "metadata": {},
   "outputs": [
    {
     "data": {
      "text/plain": [
       "False"
      ]
     },
     "execution_count": 38,
     "metadata": {},
     "output_type": "execute_result"
    }
   ],
   "source": [
    "# function checks if list has negative numbers (True) else it returns False\n",
    "\n",
    "my_list = [2,4,6,0,3,9]\n",
    "\n",
    "def check_neg(list):\n",
    "    for i in list:\n",
    "        if i < 0:\n",
    "            return True\n",
    "    return False\n",
    "\n",
    "check_neg(my_list)\n",
    "\n"
   ]
  },
  {
   "cell_type": "code",
   "execution_count": 43,
   "metadata": {},
   "outputs": [
    {
     "data": {
      "text/plain": [
       "[2, 4, 6, 0]"
      ]
     },
     "execution_count": 43,
     "metadata": {},
     "output_type": "execute_result"
    }
   ],
   "source": [
    "# function checks for even numbers in list and adds those to a new list \n",
    "\n",
    "def check_even(list):\n",
    "    new_list = []\n",
    "    for i in list:\n",
    "        if i % 2 == 0:\n",
    "            new_list.append(i)\n",
    "    return new_list\n",
    "\n",
    "check_even(my_list)\n",
    "    \n"
   ]
  },
  {
   "cell_type": "markdown",
   "metadata": {},
   "source": [
    "## Group Challenge"
   ]
  },
  {
   "cell_type": "code",
   "execution_count": 46,
   "metadata": {},
   "outputs": [
    {
     "data": {
      "text/plain": [
       "'Happy Birthday, Muayad. You turned 33 years old!'"
      ]
     },
     "execution_count": 46,
     "metadata": {},
     "output_type": "execute_result"
    }
   ],
   "source": [
    "# A function that prints a birthday message for someone\n",
    "\n",
    "def birthday_greetings(name, age):\n",
    "    return f\"Happy Birthday, {name}. You turned {age} years old!\"\n",
    "\n",
    "\n",
    "birthday_greetings(\"Muayad\", 33)\n"
   ]
  },
  {
   "cell_type": "code",
   "execution_count": 48,
   "metadata": {},
   "outputs": [
    {
     "data": {
      "text/plain": [
       "'This word is short!'"
      ]
     },
     "execution_count": 48,
     "metadata": {},
     "output_type": "execute_result"
    }
   ],
   "source": [
    "# A function that checks if a word is long or short\n",
    "\n",
    "def word_length(word):\n",
    "    if len(word) > 5:\n",
    "        return \"This word is long!\"\n",
    "    return \"This word is short!\"\n",
    "\n",
    "word_length(\"Hello\")\n"
   ]
  },
  {
   "cell_type": "code",
   "execution_count": 56,
   "metadata": {},
   "outputs": [
    {
     "data": {
      "text/plain": [
       "'Zong'"
      ]
     },
     "execution_count": 56,
     "metadata": {},
     "output_type": "execute_result"
    }
   ],
   "source": [
    "# A function that checks returns Fizz for a number divisible by 3 / Buzz for a numer divisible by 5 / and FizzBuzz for a number divisible by 3 and 5. \n",
    "# Return Zong if not divisible by any of those numbers.\n",
    "\n",
    "\n",
    "def check_fizz_buzz(num):\n",
    "    if num % 3 == 0 and num % 5 == 0:\n",
    "        return \"FizzBuzz\"\n",
    "    elif num % 3 == 0:\n",
    "        return \"Fizz\"\n",
    "    elif num % 5 == 0:\n",
    "        return \"Buzz\"\n",
    "    return \"Zong\"\n",
    "    \n",
    "\n",
    "check_fizz_buzz(2)"
   ]
  }
 ],
 "metadata": {
  "kernelspec": {
   "display_name": "CodeAcademyBasic",
   "language": "python",
   "name": "python3"
  },
  "language_info": {
   "codemirror_mode": {
    "name": "ipython",
    "version": 3
   },
   "file_extension": ".py",
   "mimetype": "text/x-python",
   "name": "python",
   "nbconvert_exporter": "python",
   "pygments_lexer": "ipython3",
   "version": "3.12.9"
  }
 },
 "nbformat": 4,
 "nbformat_minor": 2
}
